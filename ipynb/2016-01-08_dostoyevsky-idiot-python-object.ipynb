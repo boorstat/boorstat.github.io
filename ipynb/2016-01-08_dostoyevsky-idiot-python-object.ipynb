{
 "cells": [
  {
   "cell_type": "markdown",
   "metadata": {},
   "source": [
    "### boor-system"
   ]
  },
  {
   "cell_type": "code",
   "execution_count": 2,
   "metadata": {
    "collapsed": false
   },
   "outputs": [],
   "source": [
    "import sys\n",
    "\n",
    "sys.path.append('/Users/baza/dev/python-boorstat/')\n",
    "\n",
    "import boorstat"
   ]
  },
  {
   "cell_type": "markdown",
   "metadata": {},
   "source": [
    "### boor-title"
   ]
  },
  {
   "cell_type": "markdown",
   "metadata": {},
   "source": [
    "Dostoyevsky Idiot — python object"
   ]
  },
  {
   "cell_type": "markdown",
   "metadata": {},
   "source": [
    "### boor-short-content"
   ]
  },
  {
   "cell_type": "markdown",
   "metadata": {},
   "source": [
    "Let's jsonify and objectify great creation of Fyodor Dostoyevsky -- The Idiot.<br/>\n",
    "Among the images there is example of the obtained structure usage.<br/>\n",
    "![Image](https://github.com/boorstat/boorstat.github.io/raw/master/images/dostoyevsky-idiot-object.jpg)\n",
    "\n",
    "More about the process http://example.com\n",
    "\n",
    "\n"
   ]
  },
  {
   "cell_type": "markdown",
   "metadata": {},
   "source": [
    "### boot-full-content"
   ]
  },
  {
   "cell_type": "markdown",
   "metadata": {
    "collapsed": false
   },
   "source": [
    "We're going to jsonify and objectify great creation of Fyodor Dostoyevsky -- The Idiot.<br/>\n",
    "We'll get well structured data ready for futher experiments.<br/>\n",
    "![Image](https://github.com/boorstat/boorstat.github.io/raw/master/images/dostoyevsky-idiot-object.jpg)\n",
    "\n",
    "We have <a href=\"https://github.com/boorstat/boorstat-files/raw/master/lit/dostoevsky/The_Idiot.txt\">\"The Idiot\" text</a>.<br/>\n",
    "That's top level function to objectify this text:"
   ]
  },
  {
   "cell_type": "code",
   "execution_count": null,
   "metadata": {
    "collapsed": true
   },
   "outputs": [],
   "source": [
    "def objectify_idiot(url=TEXT_URL):\n",
    "    text = requests.get(url).text\n",
    "\n",
    "    idiot = {\n",
    "        'title': 'The Idiot',\n",
    "        'author': 'Fyodor Dostoyevsky',\n",
    "        'text': text}\n",
    "\n",
    "    part_seps = ['PART {}'.format(roman.toRoman(i)) for i in range(4, 0, -1)]\n",
    "    part_seps.append('Copyright')\n",
    "\n",
    "    parts = re.split('|'.join(part_seps), text)\n",
    "    idiot['copyright'] = parts[-1].strip()\n",
    "\n",
    "    parts = [p.strip() for p in parts[1:-1]]\n",
    "\n",
    "    idiot['parts'] = [objectify_part(p, n + 1) for n, p in enumerate(parts)]\n",
    "\n",
    "    return idiot"
   ]
  },
  {
   "cell_type": "markdown",
   "metadata": {},
   "source": [
    "`objectify_part()` and others low level functions implementation <a href=\"https://github.com/boorstat/python-boorstat/blob/master/boorstat/lit/dostoyevsky/idiot/idiot.py\">can be found here</a>.<br/>\n",
    "Run `pip install git+https://github.com/boorstat/python-boorstat.git` to install python package with ready to use functions:"
   ]
  },
  {
   "cell_type": "code",
   "execution_count": 12,
   "metadata": {
    "collapsed": true
   },
   "outputs": [],
   "source": [
    "from boorstat.lit.dostoyevsky.idiot import idiot\n",
    "\n",
    "idiot_as_dict = idiot.objectify_idiot()\n",
    "idiot_as_dict_from_pregenerated_json = idiot.from_json()"
   ]
  },
  {
   "cell_type": "markdown",
   "metadata": {},
   "source": [
    "Final structure can be understood from <a href=\"https://github.com/boorstat/boorstat-files/raw/master/lit/dostoevsky/idiot.json\">pregenerated json</a>.<br/>\n",
    "Also this screenshot from debugger can clarify hierarchy:\n",
    "![Image](https://github.com/boorstat/boorstat.github.io/raw/master/images/dostoyevsky-idiot-object-structure.png)"
   ]
  }
 ],
 "metadata": {
  "kernelspec": {
   "display_name": "Python 3",
   "language": "python",
   "name": "python3"
  },
  "language_info": {
   "codemirror_mode": {
    "name": "ipython",
    "version": 3
   },
   "file_extension": ".py",
   "mimetype": "text/x-python",
   "name": "python",
   "nbconvert_exporter": "python",
   "pygments_lexer": "ipython3",
   "version": "3.4.3"
  }
 },
 "nbformat": 4,
 "nbformat_minor": 2
}
