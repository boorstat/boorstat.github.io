{
 "cells": [
  {
   "cell_type": "markdown",
   "metadata": {},
   "source": [
    "### boor-system"
   ]
  },
  {
   "cell_type": "code",
   "execution_count": 1,
   "metadata": {},
   "outputs": [],
   "source": [
    "import sys\n",
    "sys.path.append('/Users/baza/dev/python-boorstat/')\n",
    "\n",
    "#from plotly.offline import download_plotlyjs, init_notebook_mode, plot, iplot\n",
    "#init_notebook_mode(connected=True)\n",
    "import plotly.plotly as py\n",
    "\n",
    "import boorstat"
   ]
  },
  {
   "cell_type": "markdown",
   "metadata": {},
   "source": [
    "### boor-title"
   ]
  },
  {
   "cell_type": "markdown",
   "metadata": {},
   "source": [
    "Visualised Dostoyevsky Idiot characters activity"
   ]
  },
  {
   "cell_type": "markdown",
   "metadata": {},
   "source": [
    "### boor-short-content"
   ]
  },
  {
   "cell_type": "markdown",
   "metadata": {},
   "source": [
    "Let's jsonify and objectify great creation of Fyodor Dostoyevsky -- The Idiot.<br/>\n",
    "Among the images there is example of the obtained structure usage.<br/>\n",
    "![Image](https://github.com/boorstat/boorstat.github.io/raw/master/images/dostoyevsky-idiot-object.jpg)\n",
    "\n",
    "More about the process http://example.com\n",
    "\n",
    "\n"
   ]
  },
  {
   "cell_type": "markdown",
   "metadata": {},
   "source": [
    "### boor-full-content"
   ]
  },
  {
   "cell_type": "markdown",
   "metadata": {},
   "source": [
    "In <a href=\"/dostoyevsky/idiot/2017/01/08/dostoyevsky-idiot-python-object.html\">previous post</a> we've generated <a href=\"https://github.com/boorstat/boorstat-files/raw/master/lit/dostoevsky/idiot.json\">json</a> based on <a href=\"https://github.com/boorstat/boorstat-files/raw/master/lit/dostoevsky/The_Idiot.txt\">Idiot text</a>.\n",
    "\n",
    "In this post we're going to use this data and visualise characters per chapter activity rate.<br/>\n",
    "First of all we need dict of lists how characters can be called or named in text:"
   ]
  },
  {
   "cell_type": "code",
   "metadata": {},
   "outputs": [],
   "source": [
    "CHARACTERS = {\n",
    "    'Prince Myshkin': ['Lev Nikolayevich', 'Lef Nicolayevitch', 'Myshkin', r'prince(?! S\\.)'],\n",
    "    'Nastasya Philipovna': ['Nastasia Philipovna', 'Barashkova'],\n",
    "    'Parfyon Semyonovich Rogozhin': ['Parfyon', 'Rogozhin', 'Rogojin'],\n",
    "    'General Ivan Fyodorovich Yepanchin': ['general', 'Ivan Fyodorovich'],\n",
    "    'Elizaveta Prokofyevna': ['Elizabetha', 'Prokofievna', r'Mrs\\. Epanchin'],\n",
    "    'Alexandra Ivanovna': ['Alexandra'],\n",
    "    'Adelaida Ivanovna': ['Adelaida'],\n",
    "    'Aglaya Ivanovna': ['Aglaya'],\n",
    "    'General Ardalion Alexandrovich Ivolgin': ['general', 'Ivolgin', 'Ardalion'],\n",
    "    'Nina Alexandrovna': ['Nina'],\n",
    "    'Gavrila Ardalionovich': ['Gavrila', 'Ganya', 'Ganechka', 'Ganka'],\n",
    "    'Varvara Ardalionovna': ['Varvara'],\n",
    "    'Lukyan Timofeevich Lebedev': ['Lukyan', 'Lebedeff'],\n",
    "    'Vera Lukyanovna': ['Vera'],\n",
    "    'Ippolit Terentyev': ['Ippolit'],\n",
    "    'Ivan Petrovich Ptitsyn': ['Ivan Petrovich', 'Ptitsin'],\n",
    "    'Evgeny Pavlovich Radomsky': ['Pavlovitch', 'Radomski'],\n",
    "    'Prince S.': ['prince S.'],\n",
    "    'Afanasy Ivanovich Totsky': ['Afanasy Ivanovitch', 'Totski'],\n",
    "    'Ferdyshchenko': ['Ferdishenko'],\n",
    "    'Keller': ['Keller'],\n",
    "    'Antip Burdovsky': ['Antip', 'Burdovsky']\n",
    "}"
   ]
  },
  {
   "cell_type": "markdown",
   "metadata": {},
   "source": [
    "<a href=\"https://plot.ly\">Plotly</a> and its python API is used to visualise data at the final stage.<br/>\n",
    "Se we need to make some imports for it:"
   ]
  },
  {
   "cell_type": "code",
   "metadata": {},
   "outputs": [],
   "source": [
    "import plotly.plotly as py"
   ]
  },
  {
   "cell_type": "markdown",
   "metadata": {},
   "source": [
    "Also we need to import our own python package: python-boorstat.<br/>\n",
    "It can be easily installed using pip.<br/>\n"
   ]
  },
  {
   "cell_type": "code",
   "execution_count": 2,
   "metadata": {},
   "outputs": [
    {
     "data": {
      "text/html": [
       "<iframe id=\"igraph\" scrolling=\"no\" style=\"border:none;\" seamless=\"seamless\" src=\"https://plot.ly/~boorstat/8.embed\" height=\"525px\" width=\"100%\"></iframe>"
      ]
     },
     "output_type": "execute_result",
     "metadata": {}
    }
   ],
   "source": [
    "py.iplot({                      # use `py.iplot` inside the ipython notebook\n",
    "    \"data\": [{\n",
    "        \"x\": [1, 2, 3],\n",
    "        \"y\": [4, 2, 5]\n",
    "    }],\n",
    "    \"layout\": {\n",
    "        \"title\": \"hello world\"\n",
    "    }\n",
    "    }, filename='hello world',      # name of the file as saved in your plotly account\n",
    "    sharing='public')            # 'public' | 'private' | 'secret': Learn more: https://plot.ly/python/privacy"
   ]
  },
  {
   "cell_type": "code",
   "metadata": {},
   "outputs": [],
   "source": [
    "iplot([{\"x\": [1, 2, 3], \"y\": [3, 1, 6]}])"
   ]
  }
 ],
 "metadata": {
  "kernelspec": {
   "display_name": "Python 3",
   "language": "python",
   "name": "python3"
  },
  "language_info": {
   "codemirror_mode": {
    "name": "ipython",
    "version": 3.0
   },
   "file_extension": ".py",
   "mimetype": "text/x-python",
   "name": "python",
   "nbconvert_exporter": "python",
   "pygments_lexer": "ipython3",
   "version": "3.4.3"
  }
 },
 "nbformat": 4,
 "nbformat_minor": 2
}