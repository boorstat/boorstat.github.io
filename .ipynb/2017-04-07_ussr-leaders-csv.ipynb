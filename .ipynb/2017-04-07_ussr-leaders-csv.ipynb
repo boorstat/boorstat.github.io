{
 "cells": [
  {
   "cell_type": "markdown",
   "metadata": {},
   "source": [
    "### boor-system"
   ]
  },
  {
   "cell_type": "code",
   "execution_count": 1,
   "metadata": {
    "collapsed": false
   },
   "outputs": [],
   "source": [
    "import sys\n",
    "sys.path.append('/Users/baza/dev/python-boorstat/')\n",
    "\n",
    "# from plotly.offline import download_plotlyjs, init_notebook_mode, plot, iplot\n",
    "\n",
    "# import plotly.plotly as py\n",
    "# import plotly.graph_objs as go\n",
    "\n",
    "import boorstat"
   ]
  },
  {
   "cell_type": "markdown",
   "metadata": {},
   "source": [
    "### boor-title"
   ]
  },
  {
   "cell_type": "markdown",
   "metadata": {},
   "source": [
    "Russian Writers CSV"
   ]
  },
  {
   "cell_type": "markdown",
   "metadata": {},
   "source": [
    "### boor-short-content"
   ]
  },
  {
   "cell_type": "markdown",
   "metadata": {},
   "source": [
    "[empty]"
   ]
  },
  {
   "cell_type": "markdown",
   "metadata": {},
   "source": [
    "### boor-full-content"
   ]
  },
  {
   "cell_type": "markdown",
   "metadata": {},
   "source": [
    "It was always interesting for me how different russian writers relate to each other.<br/>\n",
    "For example, could Dostoyevky meet Gogol at all or not?<br/>\n",
    "We are going to create csv with brief info like years of life for all russian writers.<br/>\n",
    "I did not think too much and just parse <a href=\"https://en.wikipedia.org/wiki/List_of_Russian-language_writers\">appropriate wiki page</a> – thanks to it very much:"
   ]
  },
  {
   "cell_type": "code",
   "execution_count": 36,
   "metadata": {
    "collapsed": false
   },
   "outputs": [],
   "source": [
    "import requests\n",
    "from bs4 import BeautifulSoup\n",
    "\n",
    "WIKI_USSR_LEADERS_URL = 'https://en.wikipedia.org/wiki/List_of_leaders_of_the_Soviet_Union'\n",
    "\n",
    "soup = BeautifulSoup(requests.get(WIKI_USSR_LEADERS_URL).content, 'lxml')"
   ]
  },
  {
   "cell_type": "code",
   "execution_count": 59,
   "metadata": {
    "collapsed": false
   },
   "outputs": [
    {
     "name": "stdout",
     "output_type": "stream",
     "text": [
      "['Vladimir Lenin (1870–1924)',\n",
      " '',\n",
      " '30 December 1922 ↓ 21 January 1924',\n",
      " '11th–12th Congress',\n",
      " \"Chairman of the Council of People's Commissars (Sovnarkom) and informal \"\n",
      " 'leader of the Bolsheviks since their inception.']\n",
      "['Joseph Stalin (1878–1953)',\n",
      " '',\n",
      " '21 January 1924 ↓ 5 March 1953',\n",
      " '13th–19th Congress',\n",
      " 'General Secretary from 3 April 1922 until 1934, when he resigned from '\n",
      " 'office; the post of General Secretary itself was abolished in October 1952.']\n",
      "['Georgy Malenkov (1902–1988)',\n",
      " '',\n",
      " '5 March 1953 ↓ 8 February 1955',\n",
      " '19th Congress',\n",
      " \"Succeeded to all of Stalin's titles, but was forced to resign most of them \"\n",
      " 'within a month.']\n",
      "['Nikita Khrushchev (1894–1971)',\n",
      " '',\n",
      " '8 February 1955 ↓ 14 October 1964',\n",
      " '20th–22nd Congress',\n",
      " 'Served as the First Secretary of the Central Committee of the Communist '\n",
      " 'Party of Soviet Union (from September 1953) and Chairman of the Council of '\n",
      " 'Ministers from 27 March 1958 to 14 October 1964. While vacationing in '\n",
      " 'Abkhazia, Khrushchev was called by Leonid Brezhnev to return to Moscow for '\n",
      " 'a special meeting of the Presidium, to be held on 13 October 1964. There, '\n",
      " 'at the most fiery session since the so-called \"anti-party group\" crisis of '\n",
      " '1957, he was fired from all his posts. He was largely left in peace in '\n",
      " 'retirement, but was made a \"non-person\" to the extent that his name was '\n",
      " 'removed even from the thirty-volume Soviet Encyclopedia. but many of his '\n",
      " 'reforms were later reversed.']\n",
      "['Leonid Brezhnev (1906–1982)',\n",
      " '',\n",
      " '14 October 1964 ↓ 10 November 1982',\n",
      " '23rd–26th Congress',\n",
      " 'Served as First Secretary of the Central Committee of the Communist Party, '\n",
      " 'was later renamed General Secretary,']\n",
      "['Yuri Andropov (1914–1984)',\n",
      " '',\n",
      " '12 November 1982 ↓ 9 February 1984',\n",
      " '—',\n",
      " 'General Secretary of the Central Committee of the Communist Party']\n",
      "['Konstantin Chernenko (1911–1985)',\n",
      " '',\n",
      " '13 February 1984 ↓ 10 March 1985',\n",
      " '—',\n",
      " 'General Secretary of the Central Committee of the Communist Party']\n",
      "['Mikhail Gorbachev (1931–)',\n",
      " '',\n",
      " '11 March 1985 ↓ 19 August 1991  21 August 1991 ↓ 25 December 1991 ',\n",
      " '27th–28th Congress',\n",
      " 'Served as General Secretary from 11 March 1985,']\n",
      "['Gennady Yanayev (1937–2010) (usurper)',\n",
      " '',\n",
      " '19 August 1991 ↓ 21 August 1991',\n",
      " '—',\n",
      " \"Took power during the 2 days of the failed 1991 Soviet coup d'état \"\n",
      " 'attempt, with the State Committee on the State of Emergency.']\n"
     ]
    },
    {
     "data": {
      "text/plain": [
       "('Joseph Stalin',\n",
       " '1878',\n",
       " '1953',\n",
       " '1924-01-21',\n",
       " '1953-03-05',\n",
       " 'General Secretary from 3 April 1922 until 1934, when he resigned from office; the post of General Secretary itself was abolished in October 1952.')"
      ]
     },
     "execution_count": 59,
     "metadata": {},
     "output_type": "execute_result"
    }
   ],
   "source": [
    "import re\n",
    "from pprint import pprint\n",
    "from datetime import datetime\n",
    "\n",
    "def clean_content(content):\n",
    "    content = re.sub(r'\\[.+\\]', '', content)\n",
    "    content = content.replace('†', '').replace('\\n', ' ')\n",
    "    return content\n",
    "\n",
    "def get_pyobj_from_bs_table(table):\n",
    "    rows = []\n",
    "    \n",
    "    for tr in table.find_all('tr')[1:]:\n",
    "#         print(td)\n",
    "#         rows.append([clean_content(td.text) for td in tr.find_all(['th', 'td'])])\n",
    "#         columns = tr.find_all(['th', 'td'])\n",
    "        row = [clean_content(td.text) for td in tr.find_all(['th', 'td'])]\n",
    "    \n",
    "        name = row[0].partition('(')[0].strip()\n",
    "        years = re.search(r'\\((.+?\\))', row[0]).group(0)\n",
    "        years = re.findall(r'[0-9]{4}', years)\n",
    "\n",
    "        birth, death = '', ''\n",
    "        if len(years) == 1:\n",
    "            birth = years[0]\n",
    "        elif len(years) == 2:\n",
    "            birth_year, death_year = years\n",
    "            \n",
    "        rule_start_date, rule_finish_date = row[2].split('↓')[0].strip(), row[2].split('↓')[-1].strip()\n",
    "        rule_start_date, rule_finish_date = (\n",
    "            datetime.strptime(d, '%d %B %Y').strftime('%Y-%m-%d') for d in (rule_start_date, rule_finish_date))\n",
    "            \n",
    "        descr = row[4].strip()\n",
    "        \n",
    "        rows.append((name, birth_year, death_year, rule_start_date, rule_finish_date, descr))\n",
    "    \n",
    "    return rows\n",
    "\n",
    "table = soup.find('table', {'class': 'wikitable'})\n",
    "\n",
    "table = get_pyobj_from_bs_table(table)\n",
    "table[1]"
   ]
  },
  {
   "cell_type": "code",
   "execution_count": 7,
   "metadata": {
    "collapsed": false,
    "scrolled": true
   },
   "outputs": [
    {
     "name": "stdout",
     "output_type": "stream",
     "text": [
      "name;birth_year;death_year;about;works\n",
      "Alexander Ablesimov;1742;1783;opera librettist, poet, dramatist, satirist and journalist;\n",
      "Fyodor Abramov;1920;1983;novelist and short story writer;Two Winters and Three Summers\n",
      "Grigory Adamov;1886;1945;science fiction writer;The Mystery of the Two Oceans\n",
      "Georgy Adamovich;1892;1972;poet, critic, memoirist, tanslator;\n",
      "Alexander Afanasyev;1826;1871;folklorist who recorded and published over 600 Russian folktales and fairytales;Russian Fairy Tales\n",
      "Alexander Afanasyev-Chuzhbinsky;1816;1875;poet, writer, ethnographer and translator;\n",
      "Alexander Afinogenov;1904;1941;playwright;A Far Place\n",
      "M. Ageyev;1898;1973;pseudonymous writer;Cocain Romance\n",
      "Chinghiz Aitmatov;1928;2008;;Kyrgyz novelist and short story writer,Jamilya,The Day Lasts More Than a Hundred Years\n",
      "David Aizman;1869;1922;;Russian-Jewish writer and playwright\n",
      "Bella Akhmadulina;1937;2010;modern poet;The String\n",
      "Anna Akhmatova;1889;1966;acmeist poet;Requiem\n",
      "Ivan Aksakov;1823;1886;journalist, slavophile ...\n"
     ]
    }
   ],
   "source": [
    "import re\n",
    "\n",
    "all_lis = soup.find('div', id='mw-content-text').find_all('li')\n",
    "lis = [li.text for li in all_lis if re.search(r'> \\(', str(li))]\n",
    "\n",
    "def extract_fields(li):\n",
    "    name = li.partition('(')[0].strip()\n",
    "\n",
    "    years = re.search(r'\\((.+?\\))', li).group(0)\n",
    "    years = re.findall(r'[0-9]{4}', years)\n",
    "\n",
    "    birth, death = '', ''\n",
    "    if len(years) == 1:\n",
    "        birth = years[0]\n",
    "    elif len(years) == 2:\n",
    "        birth, death = years\n",
    "        \n",
    "    descr = li.partition(')')[2]\n",
    "    descr_parts = re.split(r', (?=[A-Z])', descr)\n",
    "    descr = descr_parts[0].strip().strip(',.;').strip()\n",
    "\n",
    "    works = ''\n",
    "    if len(descr_parts) > 1:\n",
    "        works = ','.join(descr_parts[1:])\n",
    "\n",
    "    return name, birth, death, descr, works\n",
    "\n",
    "lis = [extract_fields(li) for li in lis]\n",
    "lis = [li for li in lis if not (li[1] == '' and li[2] == '')]\n",
    "\n",
    "columns = ('name', 'birth_year', 'death_year', 'about', 'works')\n",
    "separator = ';'\n",
    "\n",
    "def save_to(s):\n",
    "    s.write(';'.join(columns))\n",
    "    s.write('\\n')\n",
    "    for li in lis:\n",
    "        s.write(';'.join(li))\n",
    "        s.write('\\n')\n",
    "        \n",
    "from io import StringIO\n",
    "csv = StringIO()\n",
    "save_to(csv)\n",
    "\n",
    "# # or local file\n",
    "# with open('russian-writers.csv', 'w') as f:\n",
    "#     save_to(f)\n",
    "\n",
    "print(csv.getvalue()[:1000], '...')"
   ]
  },
  {
   "cell_type": "markdown",
   "metadata": {},
   "source": [
    "<a href=\"https://raw.githubusercontent.com/boorstat/boorstat-files/master/lit/russian/russian-writers.csv\">Russian Writers CSV</a><br/>\n",
    "<a href=\"https://github.com/boorstat/boorstat-files/blob/master/lit/russian/russian-writers.csv\">The same on github code</a>"
   ]
  },
  {
   "cell_type": "code",
   "execution_count": 2,
   "metadata": {
    "collapsed": false
   },
   "outputs": [],
   "source": [
    "import pandas as pd\n",
    "import plotly.plotly as py\n",
    "import plotly.graph_objs as go\n",
    "\n",
    "RUS_WITERS_CSV = 'https://raw.githubusercontent.com/boorstat/boorstat-files/master/lit/russian/russian-writers.csv'"
   ]
  },
  {
   "cell_type": "markdown",
   "metadata": {},
   "source": [
    "Getting csv as pandas dataframe:"
   ]
  },
  {
   "cell_type": "code",
   "execution_count": 10,
   "metadata": {
    "collapsed": false
   },
   "outputs": [],
   "source": [
    "df = pd.DataFrame.from_csv(StringIO(requests.get(RUS_WITERS_CSV).text), index_col=None, sep=';')"
   ]
  },
  {
   "cell_type": "markdown",
   "metadata": {},
   "source": [
    "If you have dataframe – you have a graph :)\n",
    "\n",
    "At first – prettier looking multi-color Gantt style graph.<br/>\n",
    "Which is much easier to code in addition."
   ]
  },
  {
   "cell_type": "code",
   "execution_count": 18,
   "metadata": {
    "collapsed": false
   },
   "outputs": [
    {
     "data": {
      "text/html": [
       "<iframe id=\"igraph\" scrolling=\"no\" style=\"border:none;\" seamless=\"seamless\" src=\"https://plot.ly/~boorstat/32.embed\" height=\"600px\" width=\"900px\"></iframe>"
      ],
      "text/plain": [
       "<plotly.tools.PlotlyDisplay object>"
      ]
     },
     "execution_count": 18,
     "metadata": {},
     "output_type": "execute_result"
    }
   ],
   "source": [
    "import plotly.figure_factory as FF\n",
    "import math\n",
    "\n",
    "FAMOUS_RUS_WRITERS = [\n",
    "    'Leo Tolstoy',\n",
    "    'Fyodor Dostoyevsky',\n",
    "    'Mikhail Bulgakov',\n",
    "    'Aleksandr Solzhenitsyn',\n",
    "    'Alexander Pushkin',\n",
    "    'Ivan Turgenev',\n",
    "    'Anton Chekhov',\n",
    "    'Alexander Blok',\n",
    "    'Ivan Bunin',\n",
    "    'Marina Tsvetaeva',\n",
    "    'Nikolai Gogol',\n",
    "    'Mikhail Lermontov',    \n",
    "    'Maxim Gorky',\n",
    "    'Boris Pasternak',\n",
    "    'Vladimir Mayakovsky',\n",
    "    'Ivan Goncharov',\n",
    "    'Nikolai Leskov',\n",
    "    'Mikhail Saltykov-Shchedrin',\n",
    "    'Sergei Yesenin',\n",
    "    'Isaak Babel',\n",
    "    'Andrei Bely',\n",
    "    'Ivan Krylov',\n",
    "    'Osip Mandelstam',\n",
    "    'Mikhail Sholokhov',\n",
    "    'Anna Akhmatova',\n",
    "    'Nikolay Nekrasov',\n",
    "]\n",
    "\n",
    "df_gantt = df[['name', 'birth_year', 'death_year']].copy()\n",
    "df_gantt.rename(\n",
    "    columns={\n",
    "        'name': 'Task', \n",
    "        'birth_year': 'Start', \n",
    "        'death_year': 'Finish'},\n",
    "    inplace=True)\n",
    "\n",
    "df_gantt = df_gantt[df_gantt['Task'].map(\n",
    "    lambda v: any([w in v for w in FAMOUS_RUS_WRITERS]))]\n",
    "\n",
    "df_gantt_birth = df_gantt.copy()\n",
    "\n",
    "df_gantt_birth.sort_values(['Start'], inplace=True)\n",
    "\n",
    "df_gantt_birth.reset_index(inplace=True, drop=True)\n",
    "\n",
    "df_gantt_birth['Task'] = df_gantt_birth[['Task']].apply(\n",
    "    lambda v: v[0].split()[-1], axis=1)\n",
    "\n",
    "df_gantt_birth['Start'] = df_gantt_birth[['Start']].apply(\n",
    "    lambda v: '{}-12-31'.format(str(int(v[0]))), axis=1)\n",
    "df_gantt_birth['Finish'] = df_gantt_birth[['Finish']].apply(\n",
    "    lambda v: '{}-12-31'.format(str(int(v[0]))), axis=1)\n",
    "\n",
    "fig = FF.create_gantt(\n",
    "    df_gantt_birth, showgrid_x=True, showgrid_y=True,\n",
    "    title='Famous Russian Writers Years of Life sorted by Birth (<a href=\"https://boorstat.github.io/lit/russian/2017/03/25/russian-writers-csv.html\">link to source</a>)')\n",
    "py.iplot(fig, filename='russian-writers-years-of-life-start-sorted', world_readable=True)"
   ]
  },
  {
   "cell_type": "markdown",
   "metadata": {},
   "source": [
    "And the same writers list but sorted by length of life:"
   ]
  },
  {
   "cell_type": "code",
   "execution_count": 19,
   "metadata": {
    "collapsed": false
   },
   "outputs": [
    {
     "data": {
      "text/html": [
       "<iframe id=\"igraph\" scrolling=\"no\" style=\"border:none;\" seamless=\"seamless\" src=\"https://plot.ly/~boorstat/34.embed\" height=\"600px\" width=\"900px\"></iframe>"
      ],
      "text/plain": [
       "<plotly.tools.PlotlyDisplay object>"
      ]
     },
     "execution_count": 19,
     "metadata": {},
     "output_type": "execute_result"
    }
   ],
   "source": [
    "df_gantt_len = df_gantt.copy()\n",
    "\n",
    "df_gantt_len['life_len'] = df_gantt_len[['Start', 'Finish']].apply(lambda v: int(v[1] - int(v[0])), axis=1)\n",
    "df_gantt_len.sort_values(['life_len'], inplace=True)\n",
    "df_gantt_len.reset_index(inplace=True, drop=True)\n",
    "\n",
    "df_gantt_len['Task'] = df_gantt_len[['Task', 'life_len']].apply(\n",
    "    lambda v: '{name}'.format(name=v[0].split()[-1], len=v[1]), axis=1)\n",
    "\n",
    "df_gantt_len['Start'] = df_gantt_len[['Start']].apply(\n",
    "    lambda v: '{}-12-31'.format(str(int(v[0]))), axis=1)\n",
    "df_gantt_len['Finish'] = df_gantt_len[['Finish']].apply(\n",
    "    lambda v: '{}-12-31'.format(str(int(v[0])) if not math.isnan(v[0]) else '2020'), axis=1)\n",
    "\n",
    "fig = FF.create_gantt(\n",
    "    df_gantt_len, showgrid_x=True, showgrid_y=True,\n",
    "    title='Famous Russian Writers Years of Life sorted by Length of Life (<a href=\"https://boorstat.github.io/lit/russian/2017/03/25/russian-writers-csv.html\">link to source</a>)')\n",
    "py.iplot(fig, filename='russian-writers-years-of-life-len-sorted', world_readable=True)"
   ]
  },
  {
   "cell_type": "markdown",
   "metadata": {},
   "source": [
    "You can see the \"EDIT CHART\" button at the bottom rigth on graphs.<br/>\n",
    "It's interesting button – thanks to <a href=\"https://plot.ly\">Plotly</a> very nuch.<br/>\n",
    "Click it Online Graph Maker opens.<br/>\n",
    "\n",
    "But seems like it's not possible to get filterable by writers data grid in that Online Maker with current <a href=\"https://github.com/plotly/plotly.py/blob/v2.0.0/plotly/figure_factory/_gantt.py#L582\">create_gantt()</a> implementation.<br/>\n",
    "That's we are going to create the next graph.\n",
    "Which is more complicate a little bit but it has out of the box ability to be editable through Plotly Online Graph Maker."
   ]
  },
  {
   "cell_type": "code",
   "execution_count": 21,
   "metadata": {
    "collapsed": false
   },
   "outputs": [
    {
     "data": {
      "text/html": [
       "<iframe id=\"igraph\" scrolling=\"no\" style=\"border:none;\" seamless=\"seamless\" src=\"https://plot.ly/~boorstat/36.embed\" height=\"525px\" width=\"100%\"></iframe>"
      ],
      "text/plain": [
       "<plotly.tools.PlotlyDisplay object>"
      ]
     },
     "execution_count": 21,
     "metadata": {},
     "output_type": "execute_result"
    }
   ],
   "source": [
    "df_bars = df.copy()\n",
    "df_bars['birth_year'] = df_bars[['birth_year']].apply(\n",
    "    lambda v: int(v[0]), axis=1)\n",
    "df_bars['death_year'] = df_bars[['death_year']].apply(\n",
    "    lambda v: int(v[0]) if not math.isnan(v[0]) else 2020, axis=1)\n",
    "\n",
    "df_bars['life_len'] = df_bars[['birth_year', 'death_year']].apply(\n",
    "    lambda v: v[1] - v[0], axis=1)\n",
    "\n",
    "offsets = go.Bar(\n",
    "    y=df_bars['name'],\n",
    "    x=df_bars['birth_year'],\n",
    "    name='birth',\n",
    "    orientation = 'h',\n",
    "    opacity=0\n",
    ")\n",
    "lifes = go.Bar(\n",
    "    y=df_bars['name'],\n",
    "    x=df_bars['life_len'],\n",
    "    name='life len',\n",
    "    orientation = 'h',\n",
    "    hoverinfo=df_bars[['name', 'death_year']].apply(\n",
    "        lambda v: '{name} ({year})'.format(name=v[0], year=v[1]), axis=1)\n",
    ")\n",
    "\n",
    "data = [offsets, lifes]\n",
    "layout = go.Layout(\n",
    "    title='All Russian Writers Years of Life',\n",
    "    barmode='stack',\n",
    "    showlegend=False,\n",
    "    margin={'l': 200},\n",
    "    xaxis={\n",
    "        'autorange': False,\n",
    "        'range': [1650, 2020],\n",
    "        'title': '<a href=\"https://boorstat.github.io/lit/russian/2017/03/25/russian-writers-csv.html\">Link to source</a>'\n",
    "    }\n",
    ")\n",
    "\n",
    "fig = go.Figure(data=data, layout=layout)\n",
    "py.iplot(fig, filename='russian-writers-life-bars')"
   ]
  },
  {
   "cell_type": "markdown",
   "metadata": {},
   "source": [
    "Click \"EDIT CHART\" at the bottom of graph.<br />\n",
    "You should see something like this after nearly 10 secs of loading:\n",
    "\n",
    "<a href=\"https://boorstat.github.io/images/plolty-online-graph-maker/after-open.png\"><img src=\"https://boorstat.github.io/images/plolty-online-graph-maker/after-open.png\" /></a>\n",
    "\n",
    "Select Filter in menu and click \"+ Filter\" button.<br />\n",
    "You can fill fields in that manner:\n",
    "\n",
    "<a href=\"https://boorstat.github.io/images/plolty-online-graph-maker/after-filter-added.png\"><img src=\"https://boorstat.github.io/images/plolty-online-graph-maker/after-filter-added.png\" /></a>\n",
    "\n",
    "Try to experiment with writers list on graph.<br />\n",
    "Then you can export the result to image formats, data like json, code (python, node.js and others) or even html.<br />\n",
    "But registration in Plot.ly is needed to get these features work.<br />\n",
    "After logged in let's return to Graph Maker and click \"Save\" button.<br />\n",
    "Then you can find saved graph in Your Files and any of them you can export to needed format.\n",
    "\n",
    "<a href=\"https://boorstat.github.io/images/plolty-online-graph-maker/export-dlg-preview.png\"><img src=\"https://boorstat.github.io/images/plolty-online-graph-maker/export-dlg-preview.png\" /></a>\n"
   ]
  },
  {
   "cell_type": "markdown",
   "metadata": {
    "collapsed": true
   },
   "source": [
    "Hope you enjoyed!"
   ]
  }
 ],
 "metadata": {
  "kernelspec": {
   "display_name": "Python 3",
   "language": "python",
   "name": "python3"
  }
 },
 "nbformat": 4,
 "nbformat_minor": 2
}
