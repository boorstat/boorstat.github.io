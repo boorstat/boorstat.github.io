{
 "cells": [
  {
   "cell_type": "markdown",
   "metadata": {},
   "source": [
    "### boor-system"
   ]
  },
  {
   "cell_type": "code",
   "execution_count": 2,
   "metadata": {
    "collapsed": false
   },
   "outputs": [],
   "source": [
    "import sys\n",
    "sys.path.append('/Users/baza/dev/python-boorstat/')\n",
    "\n",
    "# from plotly.offline import download_plotlyjs, init_notebook_mode, plot, iplot\n",
    "\n",
    "# import plotly.plotly as py\n",
    "# import plotly.graph_objs as go\n",
    "\n",
    "import boorstat"
   ]
  },
  {
   "cell_type": "markdown",
   "metadata": {},
   "source": [
    "### boor-title"
   ]
  },
  {
   "cell_type": "markdown",
   "metadata": {},
   "source": [
    "Russian Writers CSV"
   ]
  },
  {
   "cell_type": "markdown",
   "metadata": {},
   "source": [
    "### boor-short-content"
   ]
  },
  {
   "cell_type": "markdown",
   "metadata": {},
   "source": [
    "[empty]"
   ]
  },
  {
   "cell_type": "markdown",
   "metadata": {},
   "source": [
    "### boor-full-content"
   ]
  },
  {
   "cell_type": "markdown",
   "metadata": {},
   "source": [
    "It was always interesting for me how different russian writers relate to each other.<br/>\n",
    "For example, could Dostoyevky meet Gogol?<br/>\n",
    "We are going to create csv with brief info like year of life for all russian writers.<br/>\n",
    "I did not think too much and just parse <a href=\"https://en.wikipedia.org/wiki/List_of_Russian-language_writers\">appropriate wiki page</a> – thanks to it:"
   ]
  },
  {
   "cell_type": "code",
   "execution_count": 12,
   "metadata": {
    "collapsed": false
   },
   "outputs": [],
   "source": [
    "import requests\n",
    "from bs4 import BeautifulSoup\n",
    "\n",
    "WIKI_RUS_WRITERS_URL = 'https://en.wikipedia.org/wiki/List_of_Russian-language_writers'\n",
    "\n",
    "soup = BeautifulSoup(requests.get(WIKI_RUS_WRITERS_URL).content, 'lxml')"
   ]
  },
  {
   "cell_type": "code",
   "execution_count": 71,
   "metadata": {
    "collapsed": false
   },
   "outputs": [
    {
     "name": "stdout",
     "output_type": "stream",
     "text": [
      "name;birth_year;death_year;about;works\n",
      "Alexander Ablesimov;1742;1783;opera librettist, poet, dramatist, satirist and journalist;\n",
      "Fyodor Abramov;1920;1983;novelist and short story writer;Two Winters and Three Summers\n",
      "Grigory Adamov;1886;1945;science fiction writer;The Mystery of the Two Oceans\n",
      "Georgy Adamovich;1892;1972;poet, critic, memoirist, tanslator;\n",
      "Alexander Afanasyev;1826;1871;folklorist who recorded and published over 600 Russian folktales and fairytales;Russian Fairy Tales\n",
      "Alexander Afanasyev-Chuzhbinsky;1816;1875;poet, writer, ethnographer and translator;\n",
      "Alexander Afinogenov;1904;1941;playwright;A Far Place\n",
      "M. Ageyev;1898;1973;pseudonymous writer;Cocain Romance\n",
      "Chinghiz Aitmatov;1928;2008;;Kyrgyz novelist and short story writer,Jamilya,The Day Lasts More Than a Hundred Years\n",
      "David Aizman;1869;1922;;Russian-Jewish writer and playwright\n",
      "Bella Akhmadulina;1937;2010;modern poet;The String\n",
      "Anna Akhmatova;1889;1966;acmeist poet;Requiem\n",
      "Ivan Aksakov;1823;1886;journalist, slavophile ...\n"
     ]
    }
   ],
   "source": [
    "import re\n",
    "\n",
    "all_lis = soup.find('div', id='mw-content-text').find_all('li')\n",
    "lis = [li.text for li in all_lis if re.search(r'> \\(', str(li))]\n",
    "\n",
    "def extract_fields(li):\n",
    "    name = li.partition('(')[0].strip()\n",
    "\n",
    "    years = re.search(r'\\((.+?\\))', li).group(0)\n",
    "    years = re.findall(r'[0-9]{4}', years)\n",
    "\n",
    "    birth, death = '', ''\n",
    "    if len(years) == 1:\n",
    "        birth = years[0]\n",
    "    elif len(years) == 2:\n",
    "        birth, death = years\n",
    "        \n",
    "    descr = li.partition(')')[2]\n",
    "    descr_parts = re.split(r', (?=[A-Z])', descr)\n",
    "    descr = descr_parts[0].strip().strip(',.;').strip()\n",
    "\n",
    "    works = ''\n",
    "    if len(descr_parts) > 1:\n",
    "        works = ','.join(descr_parts[1:])\n",
    "\n",
    "    return name, birth, death, descr, works\n",
    "\n",
    "lis = [extract_fields(li) for li in lis]\n",
    "lis = [li for li in lis if not (li[1] == '' and li[2] == '')]\n",
    "\n",
    "columns = ('name', 'birth_year', 'death_year', 'about', 'works')\n",
    "separator = ';'\n",
    "\n",
    "def save_to(s):\n",
    "    s.write(';'.join(columns))\n",
    "    s.write('\\n')\n",
    "    for li in lis:\n",
    "        s.write(';'.join(li))\n",
    "        s.write('\\n')\n",
    "        \n",
    "from io import StringIO\n",
    "csv = StringIO()\n",
    "save_to(csv)\n",
    "\n",
    "# # or local file\n",
    "# with open('russian-writers.csv', 'w') as f:\n",
    "#     save_to(f)\n",
    "\n",
    "print(csv.getvalue()[:1000], '...')"
   ]
  },
  {
   "cell_type": "code",
   "execution_count": 3,
   "metadata": {
    "collapsed": false
   },
   "outputs": [],
   "source": [
    "from io import StringIO\n",
    "\n",
    "import pandas as pd\n",
    "import plotly.plotly as py\n",
    "import plotly.graph_objs as go"
   ]
  },
  {
   "cell_type": "markdown",
   "metadata": {},
   "source": [
    "Getting csv as pandas dataframe:"
   ]
  },
  {
   "cell_type": "code",
   "execution_count": 22,
   "metadata": {
    "collapsed": false
   },
   "outputs": [
    {
     "data": {
      "text/html": [
       "<div>\n",
       "<table border=\"1\" class=\"dataframe\">\n",
       "  <thead>\n",
       "    <tr style=\"text-align: right;\">\n",
       "      <th></th>\n",
       "      <th>year</th>\n",
       "      <th>opponent_name</th>\n",
       "      <th>opponent_descr</th>\n",
       "      <th>cause</th>\n",
       "      <th>pushkin_shot</th>\n",
       "      <th>opponent_shot</th>\n",
       "    </tr>\n",
       "  </thead>\n",
       "  <tbody>\n",
       "    <tr>\n",
       "      <th>0</th>\n",
       "      <td>1816</td>\n",
       "      <td>Paul Hannibal</td>\n",
       "      <td>uncle</td>\n",
       "      <td>during a ball Paul lugged away Pushkin’s girlf...</td>\n",
       "      <td>0</td>\n",
       "      <td>0</td>\n",
       "    </tr>\n",
       "    <tr>\n",
       "      <th>1</th>\n",
       "      <td>1817</td>\n",
       "      <td>Pyotr Kaverin</td>\n",
       "      <td>friend</td>\n",
       "      <td>Kaverin’s facetious poem</td>\n",
       "      <td>0</td>\n",
       "      <td>0</td>\n",
       "    </tr>\n",
       "    <tr>\n",
       "      <th>2</th>\n",
       "      <td>1819</td>\n",
       "      <td>Kondratiy Ryleev</td>\n",
       "      <td>poet</td>\n",
       "      <td>Ryleev told a joke about Pushkin at a high soc...</td>\n",
       "      <td>0</td>\n",
       "      <td>0</td>\n",
       "    </tr>\n",
       "    <tr>\n",
       "      <th>3</th>\n",
       "      <td>1819</td>\n",
       "      <td>Wilhelm Kiichelbecker</td>\n",
       "      <td>friend</td>\n",
       "      <td>funny verses about Küchelbecker</td>\n",
       "      <td>0</td>\n",
       "      <td>1</td>\n",
       "    </tr>\n",
       "    <tr>\n",
       "      <th>4</th>\n",
       "      <td>1819</td>\n",
       "      <td>Modest Korf</td>\n",
       "      <td>Ministry of justice worker</td>\n",
       "      <td>Pushkin’s drunk manservant pestered Korf’s ser...</td>\n",
       "      <td>0</td>\n",
       "      <td>0</td>\n",
       "    </tr>\n",
       "  </tbody>\n",
       "</table>\n",
       "</div>"
      ],
      "text/plain": [
       "   year          opponent_name              opponent_descr  \\\n",
       "0  1816          Paul Hannibal                       uncle   \n",
       "1  1817          Pyotr Kaverin                      friend   \n",
       "2  1819       Kondratiy Ryleev                        poet   \n",
       "3  1819  Wilhelm Kiichelbecker                      friend   \n",
       "4  1819            Modest Korf  Ministry of justice worker   \n",
       "\n",
       "                                               cause  pushkin_shot  \\\n",
       "0  during a ball Paul lugged away Pushkin’s girlf...             0   \n",
       "1                           Kaverin’s facetious poem             0   \n",
       "2  Ryleev told a joke about Pushkin at a high soc...             0   \n",
       "3                    funny verses about Küchelbecker             0   \n",
       "4  Pushkin’s drunk manservant pestered Korf’s ser...             0   \n",
       "\n",
       "   opponent_shot  \n",
       "0              0  \n",
       "1              0  \n",
       "2              0  \n",
       "3              1  \n",
       "4              0  "
      ]
     },
     "execution_count": 22,
     "metadata": {},
     "output_type": "execute_result"
    }
   ],
   "source": [
    "df = pd.DataFrame.from_csv(StringIO(requests.get(DUELS_CSV_URL).text), index_col=None)\n",
    "df.head()"
   ]
  },
  {
   "cell_type": "markdown",
   "metadata": {},
   "source": [
    "Looks very exciting as for me:)<br/>\n",
    "Time to plot Pushkin's Duels Histogram."
   ]
  },
  {
   "cell_type": "code",
   "execution_count": 38,
   "metadata": {
    "collapsed": false
   },
   "outputs": [
    {
     "data": {
      "text/html": [
       "<iframe id=\"igraph\" scrolling=\"no\" style=\"border:none;\" seamless=\"seamless\" src=\"https://plot.ly/~boorstat/12.embed\" height=\"525px\" width=\"100%\"></iframe>"
      ],
      "text/plain": [
       "<plotly.tools.PlotlyDisplay object>"
      ]
     },
     "execution_count": 38,
     "metadata": {},
     "output_type": "execute_result"
    }
   ],
   "source": [
    "life_years = {'start': 1799, 'end': 1837, 'size': 1}\n",
    "\n",
    "nobody_shot_data = go.Histogram(\n",
    "    x=df[(df['pushkin_shot'] == 0) & (df['opponent_shot'] == 0)]['year'],\n",
    "    xbins=life_years,\n",
    "    name='Nobody'\n",
    ")\n",
    "\n",
    "only_opponent_shot_data = go.Histogram(\n",
    "    x=df[(df['pushkin_shot'] == 0) & (df['opponent_shot'] == 1)]['year'],\n",
    "    xbins=life_years,\n",
    "    name='Only opponent'\n",
    ")\n",
    "\n",
    "both_shot_data = go.Histogram(\n",
    "    x=df[(df['pushkin_shot'] == 1) & (df['opponent_shot'] == 1)]['year'],\n",
    "    xbins=life_years,\n",
    "    name='Both shot'\n",
    ")\n",
    "\n",
    "data = [only_opponent_shot_data, nobody_shot_data, both_shot_data]\n",
    "layout = go.Layout(barmode='stack', title=\"Pushkin's Duels Histogram\")\n",
    "fig = go.Figure(data=data, layout=layout)\n",
    "\n",
    "py.iplot(fig, filename='pushkin-duels')"
   ]
  }
 ],
 "metadata": {
  "kernelspec": {
   "display_name": "Python 3",
   "language": "python",
   "name": "python3"
  },
  "language_info": {
   "codemirror_mode": {
    "name": "ipython",
    "version": 3
   },
   "file_extension": ".py",
   "mimetype": "text/x-python",
   "name": "python",
   "nbconvert_exporter": "python",
   "pygments_lexer": "ipython3",
   "version": "3.4.3"
  }
 },
 "nbformat": 4,
 "nbformat_minor": 2
}
