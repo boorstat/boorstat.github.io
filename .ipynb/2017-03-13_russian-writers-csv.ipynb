{
 "cells": [
  {
   "cell_type": "markdown",
   "metadata": {},
   "source": [
    "### boor-system"
   ]
  },
  {
   "cell_type": "code",
   "execution_count": 2,
   "metadata": {
    "collapsed": false
   },
   "outputs": [],
   "source": [
    "import sys\n",
    "sys.path.append('/Users/baza/dev/python-boorstat/')\n",
    "\n",
    "# from plotly.offline import download_plotlyjs, init_notebook_mode, plot, iplot\n",
    "\n",
    "# import plotly.plotly as py\n",
    "# import plotly.graph_objs as go\n",
    "\n",
    "import boorstat"
   ]
  },
  {
   "cell_type": "markdown",
   "metadata": {},
   "source": [
    "### boor-title"
   ]
  },
  {
   "cell_type": "markdown",
   "metadata": {},
   "source": [
    "Russian Writers CSV"
   ]
  },
  {
   "cell_type": "markdown",
   "metadata": {},
   "source": [
    "### boor-short-content"
   ]
  },
  {
   "cell_type": "markdown",
   "metadata": {},
   "source": [
    "[empty]"
   ]
  },
  {
   "cell_type": "markdown",
   "metadata": {},
   "source": [
    "### boor-full-content"
   ]
  },
  {
   "cell_type": "markdown",
   "metadata": {},
   "source": [
    "It was always interesting for me how different russian writers relate to each other.<br/>\n",
    "For example, could Dostoyevky meet Gogol?<br/>\n",
    "We are going to create csv with brief info like year of life for all russian writers.<br/>\n",
    "I did not think too much and just parse <a href=\"https://en.wikipedia.org/wiki/List_of_Russian-language_writers\">appropriate wiki page</a> – thanks to it:"
   ]
  },
  {
   "cell_type": "code",
   "execution_count": 3,
   "metadata": {
    "collapsed": false
   },
   "outputs": [],
   "source": [
    "import requests\n",
    "from bs4 import BeautifulSoup\n",
    "\n",
    "WIKI_RUS_WRITERS_URL = 'https://en.wikipedia.org/wiki/List_of_Russian-language_writers'\n",
    "\n",
    "soup = BeautifulSoup(requests.get(WIKI_RUS_WRITERS_URL).content, 'lxml')"
   ]
  },
  {
   "cell_type": "code",
   "execution_count": 4,
   "metadata": {
    "collapsed": false,
    "scrolled": true
   },
   "outputs": [
    {
     "name": "stdout",
     "output_type": "stream",
     "text": [
      "name;birth_year;death_year;about;works\n",
      "Alexander Ablesimov;1742;1783;opera librettist, poet, dramatist, satirist and journalist;\n",
      "Fyodor Abramov;1920;1983;novelist and short story writer;Two Winters and Three Summers\n",
      "Grigory Adamov;1886;1945;science fiction writer;The Mystery of the Two Oceans\n",
      "Georgy Adamovich;1892;1972;poet, critic, memoirist, tanslator;\n",
      "Alexander Afanasyev;1826;1871;folklorist who recorded and published over 600 Russian folktales and fairytales;Russian Fairy Tales\n",
      "Alexander Afanasyev-Chuzhbinsky;1816;1875;poet, writer, ethnographer and translator;\n",
      "Alexander Afinogenov;1904;1941;playwright;A Far Place\n",
      "M. Ageyev;1898;1973;pseudonymous writer;Cocain Romance\n",
      "Chinghiz Aitmatov;1928;2008;;Kyrgyz novelist and short story writer,Jamilya,The Day Lasts More Than a Hundred Years\n",
      "David Aizman;1869;1922;;Russian-Jewish writer and playwright\n",
      "Bella Akhmadulina;1937;2010;modern poet;The String\n",
      "Anna Akhmatova;1889;1966;acmeist poet;Requiem\n",
      "Ivan Aksakov;1823;1886;journalist, slavophile ...\n"
     ]
    }
   ],
   "source": [
    "import re\n",
    "\n",
    "all_lis = soup.find('div', id='mw-content-text').find_all('li')\n",
    "lis = [li.text for li in all_lis if re.search(r'> \\(', str(li))]\n",
    "\n",
    "def extract_fields(li):\n",
    "    name = li.partition('(')[0].strip()\n",
    "\n",
    "    years = re.search(r'\\((.+?\\))', li).group(0)\n",
    "    years = re.findall(r'[0-9]{4}', years)\n",
    "\n",
    "    birth, death = '', ''\n",
    "    if len(years) == 1:\n",
    "        birth = years[0]\n",
    "    elif len(years) == 2:\n",
    "        birth, death = years\n",
    "        \n",
    "    descr = li.partition(')')[2]\n",
    "    descr_parts = re.split(r', (?=[A-Z])', descr)\n",
    "    descr = descr_parts[0].strip().strip(',.;').strip()\n",
    "\n",
    "    works = ''\n",
    "    if len(descr_parts) > 1:\n",
    "        works = ','.join(descr_parts[1:])\n",
    "\n",
    "    return name, birth, death, descr, works\n",
    "\n",
    "lis = [extract_fields(li) for li in lis]\n",
    "lis = [li for li in lis if not (li[1] == '' and li[2] == '')]\n",
    "\n",
    "columns = ('name', 'birth_year', 'death_year', 'about', 'works')\n",
    "separator = ';'\n",
    "\n",
    "def save_to(s):\n",
    "    s.write(';'.join(columns))\n",
    "    s.write('\\n')\n",
    "    for li in lis:\n",
    "        s.write(';'.join(li))\n",
    "        s.write('\\n')\n",
    "        \n",
    "from io import StringIO\n",
    "csv = StringIO()\n",
    "save_to(csv)\n",
    "\n",
    "# # or local file\n",
    "# with open('russian-writers.csv', 'w') as f:\n",
    "#     save_to(f)\n",
    "\n",
    "print(csv.getvalue()[:1000], '...')"
   ]
  },
  {
   "cell_type": "markdown",
   "metadata": {},
   "source": [
    "<a href=\"https://raw.githubusercontent.com/boorstat/boorstat-files/master/lit/russian/russian-writers.csv\">Russian Writers CSV</a><br/>\n",
    "<a href=\"https://github.com/boorstat/boorstat-files/blob/master/lit/russian/russian-writers.csv\">The same in github viewer</a>"
   ]
  },
  {
   "cell_type": "code",
   "execution_count": 5,
   "metadata": {
    "collapsed": false
   },
   "outputs": [],
   "source": [
    "import pandas as pd\n",
    "import plotly.plotly as py\n",
    "import plotly.graph_objs as go\n",
    "\n",
    "RUS_WITERS_CSV = 'https://raw.githubusercontent.com/boorstat/boorstat-files/master/lit/russian/russian-writers.csv'"
   ]
  },
  {
   "cell_type": "markdown",
   "metadata": {},
   "source": [
    "Getting csv as pandas dataframe:"
   ]
  },
  {
   "cell_type": "code",
   "execution_count": 105,
   "metadata": {
    "collapsed": false
   },
   "outputs": [],
   "source": [
    "df = pd.DataFrame.from_csv(StringIO(requests.get(RUS_WITERS_CSV).text), index_col=None, sep=';')"
   ]
  },
  {
   "cell_type": "markdown",
   "metadata": {},
   "source": [
    "First – prettier looking multi-color Gantt style graph.<br/>\n",
    "Which much easier to code in addition.\n",
    "But no edit mode out of the box (you'll see later)."
   ]
  },
  {
   "cell_type": "code",
   "execution_count": 76,
   "metadata": {
    "collapsed": false
   },
   "outputs": [
    {
     "data": {
      "text/html": [
       "<iframe id=\"igraph\" scrolling=\"no\" style=\"border:none;\" seamless=\"seamless\" src=\"https://plot.ly/~boorstat/32.embed\" height=\"600px\" width=\"900px\"></iframe>"
      ],
      "text/plain": [
       "<plotly.tools.PlotlyDisplay object>"
      ]
     },
     "execution_count": 76,
     "metadata": {},
     "output_type": "execute_result"
    }
   ],
   "source": [
    "import plotly.figure_factory as FF\n",
    "import math\n",
    "\n",
    "FAMOUS_RUS_WRITERS = [\n",
    "    'Leo Tolstoy',\n",
    "    'Fyodor Dostoyevsky',\n",
    "    'Mikhail Bulgakov',\n",
    "    'Aleksandr Solzhenitsyn',\n",
    "    'Alexander Pushkin',\n",
    "    'Ivan Turgenev',\n",
    "    'Anton Chekhov',\n",
    "    'Alexander Blok',\n",
    "    'Ivan Bunin',\n",
    "    'Marina Tsvetaeva',\n",
    "    'Nikolai Gogol',\n",
    "    'Mikhail Lermontov',    \n",
    "    'Maxim Gorky',\n",
    "    'Boris Pasternak',\n",
    "    'Vladimir Mayakovsky',\n",
    "    'Ivan Goncharov',\n",
    "    'Nikolai Leskov',\n",
    "    'Mikhail Saltykov-Shchedrin',\n",
    "    'Sergei Yesenin',\n",
    "    'Isaak Babel',\n",
    "    'Andrei Bely',\n",
    "    'Ivan Krylov',\n",
    "    'Osip Mandelstam',\n",
    "    'Mikhail Sholokhov',\n",
    "    'Anna Akhmatova',\n",
    "    'Nikolay Nekrasov',\n",
    "]\n",
    "\n",
    "df_gantt = df[['name', 'birth_year', 'death_year']].copy()\n",
    "df_gantt.rename(columns={'name': 'Task', 'birth_year': 'Start', 'death_year': 'Finish'}, inplace=True)\n",
    "\n",
    "df_gantt = df_gantt[df_gantt['Task'].map(\n",
    "    lambda v: any([w in v for w in FAMOUS_RUS_WRITERS]))]\n",
    "\n",
    "df_gantt_birth = df_gantt.copy()\n",
    "\n",
    "df_gantt_birth.sort_values(['Start'], inplace=True)\n",
    "\n",
    "df_gantt_birth.reset_index(inplace=True, drop=True)\n",
    "\n",
    "df_gantt_birth['Task'] = df_gantt_birth[['Task']].apply(\n",
    "    lambda v: v[0].split()[-1], axis=1)\n",
    "\n",
    "df_gantt_birth['Start'] = df_gantt_birth[['Start']].apply(\n",
    "    lambda v: '{}-12-31'.format(str(int(v[0]))), axis=1)\n",
    "df_gantt_birth['Finish'] = df_gantt_birth[['Finish']].apply(\n",
    "    lambda v: '{}-12-31'.format(str(int(v[0]))), axis=1)\n",
    "\n",
    "fig = FF.create_gantt(\n",
    "    df_gantt_birth, showgrid_x=True, showgrid_y=True,\n",
    "    title='Famous Russian Writers Years of Life sotred by Birth')\n",
    "py.iplot(fig, filename='russian-writers-years-of-life-start-sorted', world_readable=True)"
   ]
  },
  {
   "cell_type": "markdown",
   "metadata": {},
   "source": [
    "And the same but sorted by length of life:"
   ]
  },
  {
   "cell_type": "code",
   "execution_count": 71,
   "metadata": {
    "collapsed": false
   },
   "outputs": [
    {
     "data": {
      "text/html": [
       "<iframe id=\"igraph\" scrolling=\"no\" style=\"border:none;\" seamless=\"seamless\" src=\"https://plot.ly/~boorstat/34.embed\" height=\"600px\" width=\"900px\"></iframe>"
      ],
      "text/plain": [
       "<plotly.tools.PlotlyDisplay object>"
      ]
     },
     "execution_count": 71,
     "metadata": {},
     "output_type": "execute_result"
    }
   ],
   "source": [
    "df_gantt_len = df_gantt.copy()\n",
    "\n",
    "df_gantt_len['life_len'] = df_gantt_len[['Start', 'Finish']].apply(lambda v: int(v[1] - int(v[0])), axis=1)\n",
    "df_gantt_len.sort_values(['life_len'], inplace=True)\n",
    "df_gantt_len.reset_index(inplace=True, drop=True)\n",
    "\n",
    "df_gantt_len['Task'] = df_gantt_len[['Task', 'life_len']].apply(\n",
    "    lambda v: '{name} [{len}]'.format(name=v[0].split()[-1], len=v[1]), axis=1)\n",
    "\n",
    "df_gantt_len['Start'] = df_gantt_len[['Start']].apply(\n",
    "    lambda v: '{}-12-31'.format(str(int(v[0]))), axis=1)\n",
    "df_gantt_len['Finish'] = df_gantt_len[['Finish']].apply(b\n",
    "    lambda v: '{}-12-31'.format(str(int(v[0])) if not math.isnan(v[0]) else '2020'), axis=1)\n",
    "\n",
    "fig = FF.create_gantt(\n",
    "    df_gantt_len, showgrid_x=True, showgrid_y=True,\n",
    "    title='Famous Russian Writers Years of Life sotred by Length')\n",
    "py.iplot(fig, filename='russian-writers-years-of-life-len-sorted', world_readable=True)"
   ]
  },
  {
   "cell_type": "markdown",
   "metadata": {},
   "source": [
    "You can see the \"EDIT CHART\" button at the bottom rigth on graphics.<br/>\n",
    "It's interesting button – thanks to <a href=\"https://plot.ly\">Plotly</a><br/>\n",
    "Online Graph Maker opens on click.<br/>\n",
    "But seems like it's not possible to get filterable by writers data grid in that Online Maker with current <a href=\"https://github.com/plotly/plotly.py/blob/v2.0.0/plotly/figure_factory/_gantt.py#L582\">create_gantt()</a> implementation.<br/>\n",
    "\n",
    "The next graph is more complicate a little but it has out of the box ability to be editable through Plotly Online Graph Maker."
   ]
  },
  {
   "cell_type": "code",
   "execution_count": 112,
   "metadata": {
    "collapsed": false
   },
   "outputs": [
    {
     "data": {
      "text/html": [
       "<iframe id=\"igraph\" scrolling=\"no\" style=\"border:none;\" seamless=\"seamless\" src=\"https://plot.ly/~boorstat/36.embed\" height=\"525px\" width=\"100%\"></iframe>"
      ],
      "text/plain": [
       "<plotly.tools.PlotlyDisplay object>"
      ]
     },
     "execution_count": 112,
     "metadata": {},
     "output_type": "execute_result"
    }
   ],
   "source": [
    "df_bars = df.copy()\n",
    "df_bars['birth_year'] = df_bars[['birth_year']].apply(\n",
    "    lambda v: int(v[0]), axis=1)\n",
    "df_bars['death_year'] = df_bars[['death_year']].apply(\n",
    "    lambda v: int(v[0]) if not math.isnan(v[0]) else 2020, axis=1)\n",
    "\n",
    "df_bars['life_len'] = df_bars[['birth_year', 'death_year']].apply(\n",
    "    lambda v: v[1] - v[0], axis=1)\n",
    "\n",
    "offsets = go.Bar(\n",
    "    y=df_bars['name'],\n",
    "    x=df_bars['birth_year'],\n",
    "    name='birth',\n",
    "    orientation = 'h',\n",
    "    opacity=0\n",
    ")\n",
    "lifes = go.Bar(\n",
    "    y=df_bars['name'],\n",
    "    x=df_bars['life_len'],\n",
    "    name='life len',\n",
    "    orientation = 'h',\n",
    "    hoverinfo=df_bars[['name', 'death_year']].apply(\n",
    "        lambda v: '{name} ({year})'.format(name=v[0], year=v[1]), axis=1)\n",
    ")\n",
    "\n",
    "data = [offsets, lifes]\n",
    "layout = go.Layout(\n",
    "    barmode='stack',\n",
    "    showlegend=False,\n",
    "    margin={'l': 200},\n",
    "    xaxis={\n",
    "        'autorange': False,\n",
    "        'range': [1650, 2020]}\n",
    "    \n",
    ")\n",
    "\n",
    "fig = go.Figure(data=data, layout=layout)\n",
    "py.iplot(fig, filename='russian-writers-life-bars')"
   ]
  },
  {
   "cell_type": "markdown",
   "metadata": {},
   "source": [
    "Click \"EDIT CHART\" at the bottom of graph.<br />\n",
    "You should see something like this after nearly 10 secs of loading:\n",
    "\n",
    "<a href=\"https://boorstat.github.io/images/plolty-online-graph-maker/after-open.png\"><img src=\"https://boorstat.github.io/images/plolty-online-graph-maker/after-open.png\" /></a>\n",
    "\n",
    "Select Filter in menu and click \"+ Filter\" button.<br />\n",
    "You can fill fields in that manner:\n",
    "\n",
    "<a href=\"https://boorstat.github.io/images/plolty-online-graph-maker/after-filter-added.png\"><img src=\"https://boorstat.github.io/images/plolty-online-graph-maker/after-filter-added.png\" /></a>\n",
    "\n",
    "Try to experiment with writers list on graph.<br />\n",
    "Then you can export the result to image formats, data like json, code (python, node.js and others) or even html.<br />\n",
    "But registration in Plot.ly is needed to get these features work.<br />\n",
    "After logged in let's return to Graph Maker and click \"Save\" button.<br />\n",
    "Then you can find saved graph in Your Files and any of them you can export to needed format.\n",
    "\n",
    "<a href=\"https://boorstat.github.io/images/plolty-online-graph-maker/export-dlg-preview.png\"><img src=\"https://boorstat.github.io/images/plolty-online-graph-maker/export-dlg-preview.png\" /></a>\n"
   ]
  },
  {
   "cell_type": "code",
   "execution_count": null,
   "metadata": {
    "collapsed": true
   },
   "outputs": [],
   "source": []
  },
  {
   "cell_type": "code",
   "execution_count": 93,
   "metadata": {
    "collapsed": false
   },
   "outputs": [
    {
     "data": {
      "text/plain": [
       "0                Alexander Ablesimov (1783)\n",
       "1                     Fyodor Abramov (1983)\n",
       "2                     Grigory Adamov (1945)\n",
       "3                   Georgy Adamovich (1972)\n",
       "4                Alexander Afanasyev (1871)\n",
       "5    Alexander Afanasyev-Chuzhbinsky (1875)\n",
       "6               Alexander Afinogenov (1941)\n",
       "7                          M. Ageyev (1973)\n",
       "8                  Chinghiz Aitmatov (2008)\n",
       "9                       David Aizman (1922)\n",
       "dtype: object"
      ]
     },
     "execution_count": 93,
     "metadata": {},
     "output_type": "execute_result"
    }
   ],
   "source": [
    "df_bars[['name', 'death_year']].apply(\n",
    "        lambda v: '{name} ({year})'.format(name=v[0], year=v[1]), axis=1)"
   ]
  },
  {
   "cell_type": "markdown",
   "metadata": {},
   "source": [
    "Looks very exciting as for me:)<br/>\n",
    "Time to plot Pushkin's Duels Histogram."
   ]
  },
  {
   "cell_type": "code",
   "execution_count": 37,
   "metadata": {
    "collapsed": false
   },
   "outputs": [
    {
     "data": {
      "text/html": [
       "<div>\n",
       "<table border=\"1\" class=\"dataframe\">\n",
       "  <thead>\n",
       "    <tr style=\"text-align: right;\">\n",
       "      <th></th>\n",
       "      <th>index</th>\n",
       "      <th>Task</th>\n",
       "      <th>Start</th>\n",
       "      <th>Finish</th>\n",
       "    </tr>\n",
       "  </thead>\n",
       "  <tbody>\n",
       "    <tr>\n",
       "      <th>0</th>\n",
       "      <td>11</td>\n",
       "      <td>Anna Akhmatova</td>\n",
       "      <td>1889-12-31</td>\n",
       "      <td>1966-12-31</td>\n",
       "    </tr>\n",
       "    <tr>\n",
       "      <th>1</th>\n",
       "      <td>48</td>\n",
       "      <td>Isaak Babel</td>\n",
       "      <td>1894-12-31</td>\n",
       "      <td>1940-12-31</td>\n",
       "    </tr>\n",
       "    <tr>\n",
       "      <th>2</th>\n",
       "      <td>70</td>\n",
       "      <td>Andrei Bely</td>\n",
       "      <td>1880-12-31</td>\n",
       "      <td>1934-12-31</td>\n",
       "    </tr>\n",
       "    <tr>\n",
       "      <th>3</th>\n",
       "      <td>83</td>\n",
       "      <td>Alexander Blok</td>\n",
       "      <td>1880-12-31</td>\n",
       "      <td>1921-12-31</td>\n",
       "    </tr>\n",
       "    <tr>\n",
       "      <th>4</th>\n",
       "      <td>100</td>\n",
       "      <td>Mikhail Bulgakov</td>\n",
       "      <td>1891-12-31</td>\n",
       "      <td>1940-12-31</td>\n",
       "    </tr>\n",
       "    <tr>\n",
       "      <th>5</th>\n",
       "      <td>103</td>\n",
       "      <td>Ivan Bunin</td>\n",
       "      <td>1870-12-31</td>\n",
       "      <td>1953-12-31</td>\n",
       "    </tr>\n",
       "    <tr>\n",
       "      <th>6</th>\n",
       "      <td>113</td>\n",
       "      <td>Anton Chekhov</td>\n",
       "      <td>1860-12-31</td>\n",
       "      <td>1904-12-31</td>\n",
       "    </tr>\n",
       "    <tr>\n",
       "      <th>7</th>\n",
       "      <td>139</td>\n",
       "      <td>Fyodor Dostoyevsky</td>\n",
       "      <td>1821-12-31</td>\n",
       "      <td>1881-12-31</td>\n",
       "    </tr>\n",
       "    <tr>\n",
       "      <th>8</th>\n",
       "      <td>193</td>\n",
       "      <td>Nikolai Gogol</td>\n",
       "      <td>1809-12-31</td>\n",
       "      <td>1852-12-31</td>\n",
       "    </tr>\n",
       "    <tr>\n",
       "      <th>9</th>\n",
       "      <td>196</td>\n",
       "      <td>Ivan Goncharov</td>\n",
       "      <td>1812-12-31</td>\n",
       "      <td>1891-12-31</td>\n",
       "    </tr>\n",
       "  </tbody>\n",
       "</table>\n",
       "</div>"
      ],
      "text/plain": [
       "   index                Task       Start      Finish\n",
       "0     11      Anna Akhmatova  1889-12-31  1966-12-31\n",
       "1     48         Isaak Babel  1894-12-31  1940-12-31\n",
       "2     70         Andrei Bely  1880-12-31  1934-12-31\n",
       "3     83      Alexander Blok  1880-12-31  1921-12-31\n",
       "4    100    Mikhail Bulgakov  1891-12-31  1940-12-31\n",
       "5    103          Ivan Bunin  1870-12-31  1953-12-31\n",
       "6    113       Anton Chekhov  1860-12-31  1904-12-31\n",
       "7    139  Fyodor Dostoyevsky  1821-12-31  1881-12-31\n",
       "8    193       Nikolai Gogol  1809-12-31  1852-12-31\n",
       "9    196      Ivan Goncharov  1812-12-31  1891-12-31"
      ]
     },
     "execution_count": 37,
     "metadata": {},
     "output_type": "execute_result"
    }
   ],
   "source": [
    "df_gantt[:10]"
   ]
  },
  {
   "cell_type": "code",
   "execution_count": 38,
   "metadata": {
    "collapsed": false
   },
   "outputs": [
    {
     "data": {
      "text/html": [
       "<iframe id=\"igraph\" scrolling=\"no\" style=\"border:none;\" seamless=\"seamless\" src=\"https://plot.ly/~boorstat/12.embed\" height=\"525px\" width=\"100%\"></iframe>"
      ],
      "text/plain": [
       "<plotly.tools.PlotlyDisplay object>"
      ]
     },
     "execution_count": 38,
     "metadata": {},
     "output_type": "execute_result"
    }
   ],
   "source": [
    "life_years = {'start': 1799, 'end': 1837, 'size': 1}\n",
    "\n",
    "nobody_shot_data = go.Histogram(\n",
    "    x=df[(df['pushkin_shot'] == 0) & (df['opponent_shot'] == 0)]['year'],\n",
    "    xbins=life_years,\n",
    "    name='Nobody'\n",
    ")\n",
    "\n",
    "only_opponent_shot_data = go.Histogram(\n",
    "    x=df[(df['pushkin_shot'] == 0) & (df['opponent_shot'] == 1)]['year'],\n",
    "    xbins=life_years,\n",
    "    name='Only opponent'\n",
    ")\n",
    "\n",
    "both_shot_data = go.Histogram(\n",
    "    x=df[(df['pushkin_shot'] == 1) & (df['opponent_shot'] == 1)]['year'],\n",
    "    xbins=life_years,\n",
    "    name='Both shot'\n",
    ")\n",
    "\n",
    "data = [only_opponent_shot_data, nobody_shot_data, both_shot_data]\n",
    "layout = go.Layout(barmode='stack', title=\"Pushkin's Duels Histogram\")\n",
    "fig = go.Figure(data=data, layout=layout)\n",
    "\n",
    "py.iplot(fig, filename='pushkin-duels')"
   ]
  }
 ],
 "metadata": {
  "kernelspec": {
   "display_name": "Python 3",
   "language": "python",
   "name": "python3"
  },
  "language_info": {
   "codemirror_mode": {
    "name": "ipython",
    "version": 3
   },
   "file_extension": ".py",
   "mimetype": "text/x-python",
   "name": "python",
   "nbconvert_exporter": "python",
   "pygments_lexer": "ipython3",
   "version": "3.4.3"
  }
 },
 "nbformat": 4,
 "nbformat_minor": 2
}
