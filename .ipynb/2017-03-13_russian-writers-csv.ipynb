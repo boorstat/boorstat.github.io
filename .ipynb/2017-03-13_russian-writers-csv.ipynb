{
 "cells": [
  {
   "cell_type": "markdown",
   "metadata": {},
   "source": [
    "### boor-system"
   ]
  },
  {
   "cell_type": "code",
   "execution_count": 11,
   "metadata": {
    "collapsed": false
   },
   "outputs": [],
   "source": [
    "import sys\n",
    "sys.path.append('/Users/baza/dev/python-boorstat/')\n",
    "\n",
    "# from plotly.offline import download_plotlyjs, init_notebook_mode, plot, iplot\n",
    "\n",
    "# import plotly.plotly as py\n",
    "# import plotly.graph_objs as go\n",
    "\n",
    "import boorstat"
   ]
  },
  {
   "cell_type": "markdown",
   "metadata": {},
   "source": [
    "### boor-title"
   ]
  },
  {
   "cell_type": "markdown",
   "metadata": {},
   "source": [
    "Russian Writers CSV"
   ]
  },
  {
   "cell_type": "markdown",
   "metadata": {},
   "source": [
    "### boor-short-content"
   ]
  },
  {
   "cell_type": "markdown",
   "metadata": {},
   "source": [
    "[empty]"
   ]
  },
  {
   "cell_type": "markdown",
   "metadata": {},
   "source": [
    "### boor-full-content"
   ]
  },
  {
   "cell_type": "markdown",
   "metadata": {},
   "source": [
    "It was always interesting for me how different russian writers relate to each other.<br/>\n",
    "For example, could Dostoyevky meet Gogol?<br/>\n",
    "We are going to create csv with brief info like year of life for all russian writers.<br/>\n",
    "I did not think too much and just parse <a href=\"https://en.wikipedia.org/wiki/List_of_Russian-language_writers\">appropriate wiki page</a> – thanks to it:"
   ]
  },
  {
   "cell_type": "code",
   "execution_count": 12,
   "metadata": {
    "collapsed": false
   },
   "outputs": [],
   "source": [
    "import requests\n",
    "from bs4 import BeautifulSoup\n",
    "\n",
    "WIKI_RUS_WRITERS_URL = 'https://en.wikipedia.org/wiki/List_of_Russian-language_writers'\n",
    "\n",
    "soup = BeautifulSoup(requests.get(WIKI_RUS_WRITERS_URL).content, 'lxml')"
   ]
  },
  {
   "cell_type": "code",
   "execution_count": 13,
   "metadata": {
    "collapsed": false,
    "scrolled": true
   },
   "outputs": [
    {
     "name": "stdout",
     "output_type": "stream",
     "text": [
      "name;birth_year;death_year;about;works\n",
      "Alexander Ablesimov;1742;1783;opera librettist, poet, dramatist, satirist and journalist;\n",
      "Fyodor Abramov;1920;1983;novelist and short story writer;Two Winters and Three Summers\n",
      "Grigory Adamov;1886;1945;science fiction writer;The Mystery of the Two Oceans\n",
      "Georgy Adamovich;1892;1972;poet, critic, memoirist, tanslator;\n",
      "Alexander Afanasyev;1826;1871;folklorist who recorded and published over 600 Russian folktales and fairytales;Russian Fairy Tales\n",
      "Alexander Afanasyev-Chuzhbinsky;1816;1875;poet, writer, ethnographer and translator;\n",
      "Alexander Afinogenov;1904;1941;playwright;A Far Place\n",
      "M. Ageyev;1898;1973;pseudonymous writer;Cocain Romance\n",
      "Chinghiz Aitmatov;1928;2008;;Kyrgyz novelist and short story writer,Jamilya,The Day Lasts More Than a Hundred Years\n",
      "David Aizman;1869;1922;;Russian-Jewish writer and playwright\n",
      "Bella Akhmadulina;1937;2010;modern poet;The String\n",
      "Anna Akhmatova;1889;1966;acmeist poet;Requiem\n",
      "Ivan Aksakov;1823;1886;journalist, slavophile ...\n"
     ]
    }
   ],
   "source": [
    "import re\n",
    "\n",
    "all_lis = soup.find('div', id='mw-content-text').find_all('li')\n",
    "lis = [li.text for li in all_lis if re.search(r'> \\(', str(li))]\n",
    "\n",
    "def extract_fields(li):\n",
    "    name = li.partition('(')[0].strip()\n",
    "\n",
    "    years = re.search(r'\\((.+?\\))', li).group(0)\n",
    "    years = re.findall(r'[0-9]{4}', years)\n",
    "\n",
    "    birth, death = '', ''\n",
    "    if len(years) == 1:\n",
    "        birth = years[0]\n",
    "    elif len(years) == 2:\n",
    "        birth, death = years\n",
    "        \n",
    "    descr = li.partition(')')[2]\n",
    "    descr_parts = re.split(r', (?=[A-Z])', descr)\n",
    "    descr = descr_parts[0].strip().strip(',.;').strip()\n",
    "\n",
    "    works = ''\n",
    "    if len(descr_parts) > 1:\n",
    "        works = ','.join(descr_parts[1:])\n",
    "\n",
    "    return name, birth, death, descr, works\n",
    "\n",
    "lis = [extract_fields(li) for li in lis]\n",
    "lis = [li for li in lis if not (li[1] == '' and li[2] == '')]\n",
    "\n",
    "columns = ('name', 'birth_year', 'death_year', 'about', 'works')\n",
    "separator = ';'\n",
    "\n",
    "def save_to(s):\n",
    "    s.write(';'.join(columns))\n",
    "    s.write('\\n')\n",
    "    for li in lis:\n",
    "        s.write(';'.join(li))\n",
    "        s.write('\\n')\n",
    "        \n",
    "from io import StringIO\n",
    "csv = StringIO()\n",
    "save_to(csv)\n",
    "\n",
    "# # or local file\n",
    "# with open('russian-writers.csv', 'w') as f:\n",
    "#     save_to(f)\n",
    "\n",
    "print(csv.getvalue()[:1000], '...')"
   ]
  },
  {
   "cell_type": "markdown",
   "metadata": {},
   "source": [
    "<a href=\"https://raw.githubusercontent.com/boorstat/boorstat-files/master/lit/russian/russian-writers.csv\">Russian Writers CSV</a><br/>\n",
    "<a href=\"https://github.com/boorstat/boorstat-files/blob/master/lit/russian/russian-writers.csv\">The same in github viewer</a>"
   ]
  },
  {
   "cell_type": "code",
   "execution_count": 14,
   "metadata": {
    "collapsed": false
   },
   "outputs": [],
   "source": [
    "import pandas as pd\n",
    "import plotly.plotly as py\n",
    "import plotly.graph_objs as go\n",
    "\n",
    "RUS_WITERS_CSV = 'https://raw.githubusercontent.com/boorstat/boorstat-files/master/lit/russian/russian-writers.csv'"
   ]
  },
  {
   "cell_type": "markdown",
   "metadata": {},
   "source": [
    "Getting csv as pandas dataframe:"
   ]
  },
  {
   "cell_type": "code",
   "execution_count": 23,
   "metadata": {
    "collapsed": false
   },
   "outputs": [
    {
     "data": {
      "text/html": [
       "<div>\n",
       "<table border=\"1\" class=\"dataframe\">\n",
       "  <thead>\n",
       "    <tr style=\"text-align: right;\">\n",
       "      <th></th>\n",
       "      <th>Task</th>\n",
       "      <th>Start</th>\n",
       "      <th>Finish</th>\n",
       "    </tr>\n",
       "  </thead>\n",
       "  <tbody>\n",
       "    <tr>\n",
       "      <th>0</th>\n",
       "      <td>Alexander Ablesimov</td>\n",
       "      <td>1742</td>\n",
       "      <td>1783.0</td>\n",
       "    </tr>\n",
       "    <tr>\n",
       "      <th>1</th>\n",
       "      <td>Fyodor Abramov</td>\n",
       "      <td>1920</td>\n",
       "      <td>1983.0</td>\n",
       "    </tr>\n",
       "    <tr>\n",
       "      <th>2</th>\n",
       "      <td>Grigory Adamov</td>\n",
       "      <td>1886</td>\n",
       "      <td>1945.0</td>\n",
       "    </tr>\n",
       "    <tr>\n",
       "      <th>3</th>\n",
       "      <td>Georgy Adamovich</td>\n",
       "      <td>1892</td>\n",
       "      <td>1972.0</td>\n",
       "    </tr>\n",
       "    <tr>\n",
       "      <th>4</th>\n",
       "      <td>Alexander Afanasyev</td>\n",
       "      <td>1826</td>\n",
       "      <td>1871.0</td>\n",
       "    </tr>\n",
       "  </tbody>\n",
       "</table>\n",
       "</div>"
      ],
      "text/plain": [
       "                  Task  Start  Finish\n",
       "0  Alexander Ablesimov   1742  1783.0\n",
       "1       Fyodor Abramov   1920  1983.0\n",
       "2       Grigory Adamov   1886  1945.0\n",
       "3     Georgy Adamovich   1892  1972.0\n",
       "4  Alexander Afanasyev   1826  1871.0"
      ]
     },
     "execution_count": 23,
     "metadata": {},
     "output_type": "execute_result"
    }
   ],
   "source": [
    "df = pd.DataFrame.from_csv(StringIO(requests.get(RUS_WITERS_CSV).text), index_col=None, sep=';')\n",
    "df = df[['name', 'birth_year', 'death_year']]\n",
    "df.rename(columns={'name': 'Task', 'birth_year': 'Start', 'death_year': 'Finish'}, inplace=True)\n",
    "df.head()"
   ]
  },
  {
   "cell_type": "code",
   "execution_count": 87,
   "metadata": {
    "collapsed": false
   },
   "outputs": [
    {
     "data": {
      "text/html": [
       "<iframe id=\"igraph\" scrolling=\"no\" style=\"border:none;\" seamless=\"seamless\" src=\"https://plot.ly/~boorstat/16.embed\" height=\"600px\" width=\"900px\"></iframe>"
      ],
      "text/plain": [
       "<plotly.tools.PlotlyDisplay object>"
      ]
     },
     "execution_count": 87,
     "metadata": {},
     "output_type": "execute_result"
    }
   ],
   "source": [
    "import plotly.figure_factory as FF\n",
    "import math\n",
    "\n",
    "RUS_WRITERS_FAVS = ['Dostoyevsky', 'Tolstoy', 'Gogol']\n",
    "\n",
    "# df = [dict(Task=\"Job A\", Start='2009-01-01', Finish='2009-02-28'),\n",
    "#       dict(Task=\"Job B\", Start='2009-03-05', Finish='2009-04-15'),\n",
    "#       dict(Task=\"Job C\", Start='2009-02-20', Finish='2009-05-30')]\n",
    "df = pd.DataFrame.from_csv(StringIO(requests.get(RUS_WITERS_CSV).text), index_col=None, sep=';')\n",
    "df = df[['name', 'birth_year', 'death_year']]\n",
    "df.rename(columns={'name': 'Task', 'birth_year': 'Start', 'death_year': 'Finish'}, inplace=True)\n",
    "# df['Start'] = df[['Start']].apply(lambda v: print(str(v[0])), axis=1)\n",
    "# df[:10]\n",
    "                                  \n",
    "df['Start'] = df[['Start']].apply(lambda v: '{}-01-01'.format(str(int(v))), axis=1)\n",
    "df['Finish'] = df[['Finish']].apply(lambda v: '{}-12-31'.format(str(int(v)) if not math.isnan(v) else '2020'), axis=1)\n",
    "\n",
    "df = df[df['Task'].map(lambda v: any([w in v for w in RUS_WRITERS_FAVS]))]\n",
    "df.reset_index(inplace=True)\n",
    "\n",
    "def _rename(name):\n",
    "    parts = '<br>'.join(name.split())\n",
    "    return '{name}{surname}'.format(\n",
    "        name='{}<br>'.format(name[0]) if len(parts) > 1 else '',\n",
    "        surname=parts[-1])\n",
    "\n",
    "df['Task'] = df[['Task']].apply(lambda v: '<br>'.join(str(v[0]).split()), axis=1)\n",
    "\n",
    "fig = FF.create_gantt(df, showgrid_x=True, showgrid_y=True)\n",
    "py.iplot(fig, filename='russian-writers-years-of-life', world_readable=True)"
   ]
  },
  {
   "cell_type": "code",
   "execution_count": null,
   "metadata": {
    "collapsed": true
   },
   "outputs": [],
   "source": []
  },
  {
   "cell_type": "markdown",
   "metadata": {},
   "source": [
    "Looks very exciting as for me:)<br/>\n",
    "Time to plot Pushkin's Duels Histogram."
   ]
  },
  {
   "cell_type": "code",
   "execution_count": 9,
   "metadata": {
    "collapsed": false
   },
   "outputs": [
    {
     "data": {
      "text/html": [
       "<div>\n",
       "<table border=\"1\" class=\"dataframe\">\n",
       "  <thead>\n",
       "    <tr style=\"text-align: right;\">\n",
       "      <th></th>\n",
       "      <th>name</th>\n",
       "      <th>birth_year</th>\n",
       "      <th>death_year</th>\n",
       "      <th>about</th>\n",
       "      <th>works</th>\n",
       "    </tr>\n",
       "  </thead>\n",
       "  <tbody>\n",
       "    <tr>\n",
       "      <th>0</th>\n",
       "      <td>Alexander Ablesimov</td>\n",
       "      <td>1742</td>\n",
       "      <td>1783.0</td>\n",
       "      <td>opera librettist, poet, dramatist, satirist an...</td>\n",
       "      <td>NaN</td>\n",
       "    </tr>\n",
       "    <tr>\n",
       "      <th>1</th>\n",
       "      <td>Fyodor Abramov</td>\n",
       "      <td>1920</td>\n",
       "      <td>1983.0</td>\n",
       "      <td>novelist and short story writer</td>\n",
       "      <td>Two Winters and Three Summers</td>\n",
       "    </tr>\n",
       "    <tr>\n",
       "      <th>2</th>\n",
       "      <td>Grigory Adamov</td>\n",
       "      <td>1886</td>\n",
       "      <td>1945.0</td>\n",
       "      <td>science fiction writer</td>\n",
       "      <td>The Mystery of the Two Oceans</td>\n",
       "    </tr>\n",
       "    <tr>\n",
       "      <th>3</th>\n",
       "      <td>Georgy Adamovich</td>\n",
       "      <td>1892</td>\n",
       "      <td>1972.0</td>\n",
       "      <td>poet, critic, memoirist, tanslator</td>\n",
       "      <td>NaN</td>\n",
       "    </tr>\n",
       "    <tr>\n",
       "      <th>4</th>\n",
       "      <td>Alexander Afanasyev</td>\n",
       "      <td>1826</td>\n",
       "      <td>1871.0</td>\n",
       "      <td>folklorist who recorded and published over 600...</td>\n",
       "      <td>Russian Fairy Tales</td>\n",
       "    </tr>\n",
       "    <tr>\n",
       "      <th>5</th>\n",
       "      <td>Alexander Afanasyev-Chuzhbinsky</td>\n",
       "      <td>1816</td>\n",
       "      <td>1875.0</td>\n",
       "      <td>poet, writer, ethnographer and translator</td>\n",
       "      <td>NaN</td>\n",
       "    </tr>\n",
       "    <tr>\n",
       "      <th>6</th>\n",
       "      <td>Alexander Afinogenov</td>\n",
       "      <td>1904</td>\n",
       "      <td>1941.0</td>\n",
       "      <td>playwright</td>\n",
       "      <td>A Far Place</td>\n",
       "    </tr>\n",
       "    <tr>\n",
       "      <th>7</th>\n",
       "      <td>M. Ageyev</td>\n",
       "      <td>1898</td>\n",
       "      <td>1973.0</td>\n",
       "      <td>pseudonymous writer</td>\n",
       "      <td>Cocain Romance</td>\n",
       "    </tr>\n",
       "    <tr>\n",
       "      <th>8</th>\n",
       "      <td>Chinghiz Aitmatov</td>\n",
       "      <td>1928</td>\n",
       "      <td>2008.0</td>\n",
       "      <td>NaN</td>\n",
       "      <td>Kyrgyz novelist and short story writer,Jamilya...</td>\n",
       "    </tr>\n",
       "    <tr>\n",
       "      <th>9</th>\n",
       "      <td>David Aizman</td>\n",
       "      <td>1869</td>\n",
       "      <td>1922.0</td>\n",
       "      <td>NaN</td>\n",
       "      <td>Russian-Jewish writer and playwright</td>\n",
       "    </tr>\n",
       "  </tbody>\n",
       "</table>\n",
       "</div>"
      ],
      "text/plain": [
       "                              name  birth_year  death_year  \\\n",
       "0              Alexander Ablesimov        1742      1783.0   \n",
       "1                   Fyodor Abramov        1920      1983.0   \n",
       "2                   Grigory Adamov        1886      1945.0   \n",
       "3                 Georgy Adamovich        1892      1972.0   \n",
       "4              Alexander Afanasyev        1826      1871.0   \n",
       "5  Alexander Afanasyev-Chuzhbinsky        1816      1875.0   \n",
       "6             Alexander Afinogenov        1904      1941.0   \n",
       "7                        M. Ageyev        1898      1973.0   \n",
       "8                Chinghiz Aitmatov        1928      2008.0   \n",
       "9                     David Aizman        1869      1922.0   \n",
       "\n",
       "                                               about  \\\n",
       "0  opera librettist, poet, dramatist, satirist an...   \n",
       "1                    novelist and short story writer   \n",
       "2                             science fiction writer   \n",
       "3                 poet, critic, memoirist, tanslator   \n",
       "4  folklorist who recorded and published over 600...   \n",
       "5          poet, writer, ethnographer and translator   \n",
       "6                                         playwright   \n",
       "7                                pseudonymous writer   \n",
       "8                                                NaN   \n",
       "9                                                NaN   \n",
       "\n",
       "                                               works  \n",
       "0                                                NaN  \n",
       "1                      Two Winters and Three Summers  \n",
       "2                      The Mystery of the Two Oceans  \n",
       "3                                                NaN  \n",
       "4                                Russian Fairy Tales  \n",
       "5                                                NaN  \n",
       "6                                        A Far Place  \n",
       "7                                     Cocain Romance  \n",
       "8  Kyrgyz novelist and short story writer,Jamilya...  \n",
       "9               Russian-Jewish writer and playwright  "
      ]
     },
     "execution_count": 9,
     "metadata": {},
     "output_type": "execute_result"
    }
   ],
   "source": [
    "df[:10]"
   ]
  },
  {
   "cell_type": "code",
   "execution_count": 38,
   "metadata": {
    "collapsed": false
   },
   "outputs": [
    {
     "data": {
      "text/html": [
       "<iframe id=\"igraph\" scrolling=\"no\" style=\"border:none;\" seamless=\"seamless\" src=\"https://plot.ly/~boorstat/12.embed\" height=\"525px\" width=\"100%\"></iframe>"
      ],
      "text/plain": [
       "<plotly.tools.PlotlyDisplay object>"
      ]
     },
     "execution_count": 38,
     "metadata": {},
     "output_type": "execute_result"
    }
   ],
   "source": [
    "life_years = {'start': 1799, 'end': 1837, 'size': 1}\n",
    "\n",
    "nobody_shot_data = go.Histogram(\n",
    "    x=df[(df['pushkin_shot'] == 0) & (df['opponent_shot'] == 0)]['year'],\n",
    "    xbins=life_years,\n",
    "    name='Nobody'\n",
    ")\n",
    "\n",
    "only_opponent_shot_data = go.Histogram(\n",
    "    x=df[(df['pushkin_shot'] == 0) & (df['opponent_shot'] == 1)]['year'],\n",
    "    xbins=life_years,\n",
    "    name='Only opponent'\n",
    ")\n",
    "\n",
    "both_shot_data = go.Histogram(\n",
    "    x=df[(df['pushkin_shot'] == 1) & (df['opponent_shot'] == 1)]['year'],\n",
    "    xbins=life_years,\n",
    "    name='Both shot'\n",
    ")\n",
    "\n",
    "data = [only_opponent_shot_data, nobody_shot_data, both_shot_data]\n",
    "layout = go.Layout(barmode='stack', title=\"Pushkin's Duels Histogram\")\n",
    "fig = go.Figure(data=data, layout=layout)\n",
    "\n",
    "py.iplot(fig, filename='pushkin-duels')"
   ]
  }
 ],
 "metadata": {
  "kernelspec": {
   "display_name": "Python 3",
   "language": "python",
   "name": "python3"
  },
  "language_info": {
   "codemirror_mode": {
    "name": "ipython",
    "version": 3
   },
   "file_extension": ".py",
   "mimetype": "text/x-python",
   "name": "python",
   "nbconvert_exporter": "python",
   "pygments_lexer": "ipython3",
   "version": "3.4.3"
  }
 },
 "nbformat": 4,
 "nbformat_minor": 2
}
