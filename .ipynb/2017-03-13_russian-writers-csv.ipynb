{
 "cells": [
  {
   "cell_type": "markdown",
   "metadata": {},
   "source": [
    "### boor-system"
   ]
  },
  {
   "cell_type": "code",
   "execution_count": 2,
   "metadata": {
    "collapsed": false
   },
   "outputs": [],
   "source": [
    "import sys\n",
    "sys.path.append('/Users/baza/dev/python-boorstat/')\n",
    "\n",
    "# from plotly.offline import download_plotlyjs, init_notebook_mode, plot, iplot\n",
    "\n",
    "# import plotly.plotly as py\n",
    "# import plotly.graph_objs as go\n",
    "\n",
    "import boorstat"
   ]
  },
  {
   "cell_type": "markdown",
   "metadata": {},
   "source": [
    "### boor-title"
   ]
  },
  {
   "cell_type": "markdown",
   "metadata": {},
   "source": [
    "Russian Writers CSV"
   ]
  },
  {
   "cell_type": "markdown",
   "metadata": {},
   "source": [
    "### boor-short-content"
   ]
  },
  {
   "cell_type": "markdown",
   "metadata": {},
   "source": [
    "[empty]"
   ]
  },
  {
   "cell_type": "markdown",
   "metadata": {},
   "source": [
    "### boor-full-content"
   ]
  },
  {
   "cell_type": "code",
   "execution_count": 12,
   "metadata": {
    "collapsed": false
   },
   "outputs": [],
   "source": [
    "import requests\n",
    "from bs4 import BeautifulSoup\n",
    "\n",
    "WIKI_RUS_WRITERS_URL = 'https://en.wikipedia.org/wiki/List_of_Russian-language_writers'\n",
    "\n",
    "soup = BeautifulSoup(requests.get(WIKI_RUS_WRITERS_URL).content, 'lxml')"
   ]
  },
  {
   "cell_type": "code",
   "execution_count": 51,
   "metadata": {
    "collapsed": false
   },
   "outputs": [
    {
     "name": "stdout",
     "output_type": "stream",
     "text": [
      "1437\n",
      "Jurgis Baltrušaitis 1873 1944  poet and translator The Pendulum\n"
     ]
    }
   ],
   "source": [
    "import re\n",
    "\n",
    "all_lis = soup.find('div', id='mw-content-text').find_all('li')\n",
    "print(len(all_lis))\n",
    "lis = [li.text for li in all_lis if re.search(r'> \\(', str(li))]\n",
    "\n",
    "def extract_fields(li):\n",
    "    name = li.partition('(')[0].strip()\n",
    "\n",
    "    years = re.search(r'\\((.+?\\))', li).group(0)\n",
    "    years = re.findall(r'[0-9]{4}', years)\n",
    "\n",
    "    birth, death = '', ''\n",
    "    if len(years) == 1:\n",
    "        birth = years[0]\n",
    "    elif len(years) == 2:\n",
    "        birth, death = years\n",
    "        \n",
    "    descr = li.partition(')')[2]\n",
    "    descr_parts = re.split(r', (?=[A-Z])', descr)\n",
    "    descr = descr_parts[0].strip().strip(',')\n",
    "\n",
    "    works = ''\n",
    "    if len(descr_parts) > 1:\n",
    "        works = ', '.join(descr_parts[1:])\n",
    "\n",
    "    print(name, birth, death, descr, works)\n",
    "\n",
    "extract_fields(lis[55])"
   ]
  },
  {
   "cell_type": "code",
   "execution_count": 24,
   "metadata": {
    "collapsed": false
   },
   "outputs": [
    {
     "data": {
      "text/plain": [
       "['HTML_FORMATTERS',\n",
       " 'XML_FORMATTERS',\n",
       " '__bool__',\n",
       " '__call__',\n",
       " '__class__',\n",
       " '__contains__',\n",
       " '__copy__',\n",
       " '__delattr__',\n",
       " '__delitem__',\n",
       " '__dict__',\n",
       " '__dir__',\n",
       " '__doc__',\n",
       " '__eq__',\n",
       " '__format__',\n",
       " '__ge__',\n",
       " '__getattr__',\n",
       " '__getattribute__',\n",
       " '__getitem__',\n",
       " '__gt__',\n",
       " '__hash__',\n",
       " '__init__',\n",
       " '__iter__',\n",
       " '__le__',\n",
       " '__len__',\n",
       " '__lt__',\n",
       " '__module__',\n",
       " '__ne__',\n",
       " '__new__',\n",
       " '__reduce__',\n",
       " '__reduce_ex__',\n",
       " '__repr__',\n",
       " '__setattr__',\n",
       " '__setitem__',\n",
       " '__sizeof__',\n",
       " '__str__',\n",
       " '__subclasshook__',\n",
       " '__unicode__',\n",
       " '__weakref__',\n",
       " '_all_strings',\n",
       " '_attr_value_as_string',\n",
       " '_attribute_checker',\n",
       " '_find_all',\n",
       " '_find_one',\n",
       " '_formatter_for_name',\n",
       " '_is_xml',\n",
       " '_lastRecursiveChild',\n",
       " '_last_descendant',\n",
       " '_select_debug',\n",
       " '_selector_combinators',\n",
       " '_should_pretty_print',\n",
       " '_tag_name_matches_and',\n",
       " 'append',\n",
       " 'attribselect_re',\n",
       " 'attrs',\n",
       " 'can_be_empty_element',\n",
       " 'childGenerator',\n",
       " 'children',\n",
       " 'clear',\n",
       " 'contents',\n",
       " 'decode',\n",
       " 'decode_contents',\n",
       " 'decompose',\n",
       " 'descendants',\n",
       " 'encode',\n",
       " 'encode_contents',\n",
       " 'extract',\n",
       " 'fetchNextSiblings',\n",
       " 'fetchParents',\n",
       " 'fetchPrevious',\n",
       " 'fetchPreviousSiblings',\n",
       " 'find',\n",
       " 'findAll',\n",
       " 'findAllNext',\n",
       " 'findAllPrevious',\n",
       " 'findChild',\n",
       " 'findChildren',\n",
       " 'findNext',\n",
       " 'findNextSibling',\n",
       " 'findNextSiblings',\n",
       " 'findParent',\n",
       " 'findParents',\n",
       " 'findPrevious',\n",
       " 'findPreviousSibling',\n",
       " 'findPreviousSiblings',\n",
       " 'find_all',\n",
       " 'find_all_next',\n",
       " 'find_all_previous',\n",
       " 'find_next',\n",
       " 'find_next_sibling',\n",
       " 'find_next_siblings',\n",
       " 'find_parent',\n",
       " 'find_parents',\n",
       " 'find_previous',\n",
       " 'find_previous_sibling',\n",
       " 'find_previous_siblings',\n",
       " 'format_string',\n",
       " 'get',\n",
       " 'getText',\n",
       " 'get_text',\n",
       " 'has_attr',\n",
       " 'has_key',\n",
       " 'hidden',\n",
       " 'index',\n",
       " 'insert',\n",
       " 'insert_after',\n",
       " 'insert_before',\n",
       " 'isSelfClosing',\n",
       " 'is_empty_element',\n",
       " 'known_xml',\n",
       " 'name',\n",
       " 'namespace',\n",
       " 'next',\n",
       " 'nextGenerator',\n",
       " 'nextSibling',\n",
       " 'nextSiblingGenerator',\n",
       " 'next_element',\n",
       " 'next_elements',\n",
       " 'next_sibling',\n",
       " 'next_siblings',\n",
       " 'parent',\n",
       " 'parentGenerator',\n",
       " 'parents',\n",
       " 'parserClass',\n",
       " 'parser_class',\n",
       " 'prefix',\n",
       " 'preserve_whitespace_tags',\n",
       " 'prettify',\n",
       " 'previous',\n",
       " 'previousGenerator',\n",
       " 'previousSibling',\n",
       " 'previousSiblingGenerator',\n",
       " 'previous_element',\n",
       " 'previous_elements',\n",
       " 'previous_sibling',\n",
       " 'previous_siblings',\n",
       " 'quoted_colon',\n",
       " 'recursiveChildGenerator',\n",
       " 'renderContents',\n",
       " 'replaceWith',\n",
       " 'replaceWithChildren',\n",
       " 'replace_with',\n",
       " 'replace_with_children',\n",
       " 'select',\n",
       " 'select_one',\n",
       " 'setup',\n",
       " 'string',\n",
       " 'strings',\n",
       " 'stripped_strings',\n",
       " 'tag_name_re',\n",
       " 'text',\n",
       " 'unwrap',\n",
       " 'wrap']"
      ]
     },
     "execution_count": 24,
     "metadata": {},
     "output_type": "execute_result"
    }
   ],
   "source": [
    "dir(lis[50])"
   ]
  },
  {
   "cell_type": "markdown",
   "metadata": {},
   "source": [
    "There are more than 25 known Pushkin's duels.<br/>\n",
    "Let's make CSV containing these duels details.<br/>\n",
    "Here its full content:"
   ]
  },
  {
   "cell_type": "code",
   "execution_count": 14,
   "metadata": {
    "collapsed": false
   },
   "outputs": [
    {
     "name": "stdout",
     "output_type": "stream",
     "text": [
      "year,opponent_name,opponent_descr,cause,pushkin_shot,opponent_shot\n",
      "1816,Paul Hannibal,uncle,during a ball Paul lugged away Pushkin’s girlfriend miss Loshakova,0,0\n",
      "1817,Pyotr Kaverin,friend,Kaverin’s facetious poem,0,0\n",
      "1819,Kondratiy Ryleev,poet,Ryleev told a joke about Pushkin at a high society gathering,0,0\n",
      "1819,Wilhelm Kiichelbecker,friend,funny verses about Küchelbecker,0,1\n",
      "1819,Modest Korf,Ministry of justice worker,Pushkin’s drunk manservant pestered Korf’s servant who finally beat Pushkin’s servant up,0,0\n",
      "1819,Denisevich,Major,Pushkin behaved provocatively in theater: he yelled at actors,0,0\n",
      "1820,Orlov Fedor and Alexey Alexeev,,Orlov and Alexeev reprimanded Pushkin for being drunk and trying to play pool,0,0\n",
      "1821,Deguilly,French military officer,a quarrel under unclear circumstances,0,0\n",
      "1822,Semyon Starov,lieutenant colonel,a conflict occurred because of a restaurant orchestra at a casino where both indulged in gambling,1,1\n",
      "1822,Ivan Lanov,65-year-old state councilor,a quarrel during a holiday dinner,0,0\n",
      "1822,Todor Balsh,Moldavian nobleman,Balsh’s wife Maria responded to Pushkin’s question in an impolite manner,1,1\n",
      "1822,Skartla Pruncul,Bessarabian landowner,they were seconds at someone else’s duel and could not agree upon the rules of the duel,0,0\n",
      "1822,Seweryn Potocki,Active Privy Councillor,discussion about serfdom at the dinner table,0,0\n",
      "1822,Rutkowski,captain,Pushkin did not believe that a hailstone can weigh up to 3 pounds (which is possible) and made fun of the retired captain,0,0\n",
      "1822,Inglezi,Chisinau tycoon,Pushkin coveted his wife (a gypsy woman Ludmila Shekora),0,0\n",
      "1832,Alexander Zubov,General Staff warrant officer,Pushkin had caught Zubov on cheating during a game of cards,0,1\n",
      "1823,Ivan Rousseau,young writer,Pushkin’s personal dislike for this person,0,0\n",
      "1826,Nikolay Turgenev,one of the leaders of the Union of Welfare and a member of the Northern Society,Tugrenev did not approve of Pushkin’s poem,0,0\n",
      "1827,Vladimir Solomirskiy,artillery officer,the officer’s female friend Sofia to whom Pushkin was personally attracted,0,0\n",
      "1828,Alexander Golitsyn,Minister of Education,Pushkin wrote a bold epigram so the Minister arranged a rough interrogation,0,0\n",
      "1828,Lagrenée,French Embassy Secretary in St.Petersburg,an unknown girl at a ball,0,0\n",
      "1829,Mr. Hvostov,Foreign Office worker,Hvostov was dissatisfied by Pushkin’s epigrams,0,0\n",
      "1836,Nikolay Repin,,Repin was dissatisfied with Pushkin’s poems about him,0,0\n",
      "1836,Semyon Hlustin,Foreign Office worker,Hlustin did not approve of Pushkin’s poetry,0,0\n",
      "1836,Vladimir Sollogub,minor Russian writer,Sologub’s unflattering remarks about the poet’s wife Natalia,0,0\n",
      "1836,George d’Anthès,French officer,an anonymous letter which stated that Pushkin’s wife had been cheating on her husband with d’Anthès,0,0\n",
      "1837,George d’Anthès,French officer,an anonymous letter which stated that Pushkin’s wife had been cheating on her husband with d’Anthès,1,1\n"
     ]
    }
   ],
   "source": [
    "import requests\n",
    "\n",
    "DUELS_CSV_URL = 'https://raw.githubusercontent.com/boorstat/boorstat-files/master/lit/pushkin/duels.csv'\n",
    "\n",
    "print(requests.get(DUELS_CSV_URL).text)"
   ]
  },
  {
   "cell_type": "markdown",
   "metadata": {},
   "source": [
    "<a href=\"https://raw.githubusercontent.com/boorstat/boorstat-files/master/lit/pushkin/duels.csv\">Pushkin's duels csv</a><br/>\n",
    "\n",
    "Source for this data:<br/>\n",
    "https://rinatim.com/2016/12/03/alexander-pushkins-duels/<br/>\n",
    "http://d-push.net<br/>\n",
    "https://ru.wikipedia.org/wiki/Пушкин,_Александр_Сергеевич<br/>\n",
    "\n",
    "And now let's try to use it and plot some visual representation of Pushkin's duels into real shots conversion.<br/>\n",
    "Starting with imports:"
   ]
  },
  {
   "cell_type": "code",
   "execution_count": 3,
   "metadata": {
    "collapsed": false
   },
   "outputs": [],
   "source": [
    "from io import StringIO\n",
    "\n",
    "import pandas as pd\n",
    "import plotly.plotly as py\n",
    "import plotly.graph_objs as go"
   ]
  },
  {
   "cell_type": "markdown",
   "metadata": {},
   "source": [
    "Getting csv as pandas dataframe:"
   ]
  },
  {
   "cell_type": "code",
   "execution_count": 22,
   "metadata": {
    "collapsed": false
   },
   "outputs": [
    {
     "data": {
      "text/html": [
       "<div>\n",
       "<table border=\"1\" class=\"dataframe\">\n",
       "  <thead>\n",
       "    <tr style=\"text-align: right;\">\n",
       "      <th></th>\n",
       "      <th>year</th>\n",
       "      <th>opponent_name</th>\n",
       "      <th>opponent_descr</th>\n",
       "      <th>cause</th>\n",
       "      <th>pushkin_shot</th>\n",
       "      <th>opponent_shot</th>\n",
       "    </tr>\n",
       "  </thead>\n",
       "  <tbody>\n",
       "    <tr>\n",
       "      <th>0</th>\n",
       "      <td>1816</td>\n",
       "      <td>Paul Hannibal</td>\n",
       "      <td>uncle</td>\n",
       "      <td>during a ball Paul lugged away Pushkin’s girlf...</td>\n",
       "      <td>0</td>\n",
       "      <td>0</td>\n",
       "    </tr>\n",
       "    <tr>\n",
       "      <th>1</th>\n",
       "      <td>1817</td>\n",
       "      <td>Pyotr Kaverin</td>\n",
       "      <td>friend</td>\n",
       "      <td>Kaverin’s facetious poem</td>\n",
       "      <td>0</td>\n",
       "      <td>0</td>\n",
       "    </tr>\n",
       "    <tr>\n",
       "      <th>2</th>\n",
       "      <td>1819</td>\n",
       "      <td>Kondratiy Ryleev</td>\n",
       "      <td>poet</td>\n",
       "      <td>Ryleev told a joke about Pushkin at a high soc...</td>\n",
       "      <td>0</td>\n",
       "      <td>0</td>\n",
       "    </tr>\n",
       "    <tr>\n",
       "      <th>3</th>\n",
       "      <td>1819</td>\n",
       "      <td>Wilhelm Kiichelbecker</td>\n",
       "      <td>friend</td>\n",
       "      <td>funny verses about Küchelbecker</td>\n",
       "      <td>0</td>\n",
       "      <td>1</td>\n",
       "    </tr>\n",
       "    <tr>\n",
       "      <th>4</th>\n",
       "      <td>1819</td>\n",
       "      <td>Modest Korf</td>\n",
       "      <td>Ministry of justice worker</td>\n",
       "      <td>Pushkin’s drunk manservant pestered Korf’s ser...</td>\n",
       "      <td>0</td>\n",
       "      <td>0</td>\n",
       "    </tr>\n",
       "  </tbody>\n",
       "</table>\n",
       "</div>"
      ],
      "text/plain": [
       "   year          opponent_name              opponent_descr  \\\n",
       "0  1816          Paul Hannibal                       uncle   \n",
       "1  1817          Pyotr Kaverin                      friend   \n",
       "2  1819       Kondratiy Ryleev                        poet   \n",
       "3  1819  Wilhelm Kiichelbecker                      friend   \n",
       "4  1819            Modest Korf  Ministry of justice worker   \n",
       "\n",
       "                                               cause  pushkin_shot  \\\n",
       "0  during a ball Paul lugged away Pushkin’s girlf...             0   \n",
       "1                           Kaverin’s facetious poem             0   \n",
       "2  Ryleev told a joke about Pushkin at a high soc...             0   \n",
       "3                    funny verses about Küchelbecker             0   \n",
       "4  Pushkin’s drunk manservant pestered Korf’s ser...             0   \n",
       "\n",
       "   opponent_shot  \n",
       "0              0  \n",
       "1              0  \n",
       "2              0  \n",
       "3              1  \n",
       "4              0  "
      ]
     },
     "execution_count": 22,
     "metadata": {},
     "output_type": "execute_result"
    }
   ],
   "source": [
    "df = pd.DataFrame.from_csv(StringIO(requests.get(DUELS_CSV_URL).text), index_col=None)\n",
    "df.head()"
   ]
  },
  {
   "cell_type": "markdown",
   "metadata": {},
   "source": [
    "Looks very exciting as for me:)<br/>\n",
    "Time to plot Pushkin's Duels Histogram."
   ]
  },
  {
   "cell_type": "code",
   "execution_count": 38,
   "metadata": {
    "collapsed": false
   },
   "outputs": [
    {
     "data": {
      "text/html": [
       "<iframe id=\"igraph\" scrolling=\"no\" style=\"border:none;\" seamless=\"seamless\" src=\"https://plot.ly/~boorstat/12.embed\" height=\"525px\" width=\"100%\"></iframe>"
      ],
      "text/plain": [
       "<plotly.tools.PlotlyDisplay object>"
      ]
     },
     "execution_count": 38,
     "metadata": {},
     "output_type": "execute_result"
    }
   ],
   "source": [
    "life_years = {'start': 1799, 'end': 1837, 'size': 1}\n",
    "\n",
    "nobody_shot_data = go.Histogram(\n",
    "    x=df[(df['pushkin_shot'] == 0) & (df['opponent_shot'] == 0)]['year'],\n",
    "    xbins=life_years,\n",
    "    name='Nobody'\n",
    ")\n",
    "\n",
    "only_opponent_shot_data = go.Histogram(\n",
    "    x=df[(df['pushkin_shot'] == 0) & (df['opponent_shot'] == 1)]['year'],\n",
    "    xbins=life_years,\n",
    "    name='Only opponent'\n",
    ")\n",
    "\n",
    "both_shot_data = go.Histogram(\n",
    "    x=df[(df['pushkin_shot'] == 1) & (df['opponent_shot'] == 1)]['year'],\n",
    "    xbins=life_years,\n",
    "    name='Both shot'\n",
    ")\n",
    "\n",
    "data = [only_opponent_shot_data, nobody_shot_data, both_shot_data]\n",
    "layout = go.Layout(barmode='stack', title=\"Pushkin's Duels Histogram\")\n",
    "fig = go.Figure(data=data, layout=layout)\n",
    "\n",
    "py.iplot(fig, filename='pushkin-duels')"
   ]
  }
 ],
 "metadata": {
  "kernelspec": {
   "display_name": "Python 3",
   "language": "python",
   "name": "python3"
  },
  "language_info": {
   "codemirror_mode": {
    "name": "ipython",
    "version": 3
   },
   "file_extension": ".py",
   "mimetype": "text/x-python",
   "name": "python",
   "nbconvert_exporter": "python",
   "pygments_lexer": "ipython3",
   "version": "3.4.3"
  }
 },
 "nbformat": 4,
 "nbformat_minor": 2
}
