{
 "cells": [
  {
   "cell_type": "markdown",
   "metadata": {},
   "source": [
    "### boor-system"
   ]
  },
  {
   "cell_type": "code",
   "execution_count": 10,
   "metadata": {
    "collapsed": false
   },
   "outputs": [],
   "source": [
    "import re\n",
    "import sys\n",
    "sys.path.append('/Users/baza/dev/python-boorstat/')\n",
    "\n",
    "#from plotly.offline import download_plotlyjs, init_notebook_mode, plot, iplot\n",
    "import plotly.plotly as py\n",
    "import plotly.graph_objs as go\n",
    "\n",
    "import boorstat"
   ]
  },
  {
   "cell_type": "markdown",
   "metadata": {},
   "source": [
    "### boor-title"
   ]
  },
  {
   "cell_type": "markdown",
   "metadata": {},
   "source": [
    "Pushkin's Duels CSV"
   ]
  },
  {
   "cell_type": "markdown",
   "metadata": {},
   "source": [
    "### boor-short-content"
   ]
  },
  {
   "cell_type": "markdown",
   "metadata": {},
   "source": [
    "[empty]"
   ]
  },
  {
   "cell_type": "markdown",
   "metadata": {},
   "source": [
    "### boor-full-content"
   ]
  },
  {
   "cell_type": "markdown",
   "metadata": {},
   "source": [
    "There are more than 25 known Pushkin's duels.<br/>\n",
    "Let's make CSV containing these duels details.<br/>\n",
    "Here its full content:"
   ]
  },
  {
   "cell_type": "markdown",
   "metadata": {},
   "source": [
    "```\n",
    "year,opponent_name,opponent_descr,cause,pushkin_shot,opponent_shot\n",
    "1816,Paul Hannibal,uncle,during a ball Paul lugged away Pushkin’s girlfriend miss Loshakova,0,0\n",
    "1817,Pyotr Kaverin,friend,Kaverin’s facetious poem,0,0\n",
    "1819,Kondratiy Ryleev,poet,Ryleev told a joke about Pushkin at a high society gathering,0,0\n",
    "1819,Wilhelm Kiichelbecker,friend,funny verses about Küchelbecker,0,1\n",
    "1819,Modest Korf,Ministry of justice worker,Pushkin’s drunk manservant pestered Korf’s servant, who finally beat Pushkin’s servant up,0,0\n",
    "1819,Denisevich,Major,Pushkin behaved provocatively in theater: he yelled at actors,0,0\n",
    "1820,Orlov Fedor and Alexey Alexeev,,Orlov and Alexeev reprimanded Pushkin for being drunk and trying to play pool,0,0\n",
    "1821,Deguilly,French military officer,a quarrel under unclear circumstances,0,0\n",
    "1822,Semyon Starov,lieutenant colonel,a conflict occurred because of a restaurant orchestra at a casino where both indulged in gambling,1,1\n",
    "1822,Ivan Lanov,65-year-old state councilor,a quarrel during a holiday dinner,0,0\n",
    "1822,Todor Balsh,Moldavian nobleman,Balsh’s wife Maria responded to Pushkin’s question in an impolite manner,1,1\n",
    "1822,Skartla Pruncul,Bessarabian landowner,they were seconds at someone else’s duel and could not agree upon the rules of the duel,0,0\n",
    "1822,Seweryn Potocki,Active Privy Councillor,discussion about serfdom at the dinner table,0,0\n",
    "1822,Rutkowski,captain,Pushkin did not believe that a hailstone can weigh up to 3 pounds (which is possible) and made fun of the retired captain,0,0\n",
    "1822,Inglezi,Chisinau tycoon,Pushkin coveted his wife (a gypsy woman Ludmila Shekora),0,0\n",
    "1832,Alexander Zubov,General Staff warrant officer,Pushkin had caught Zubov on cheating during a game of cards,0,1\n",
    "1823,Ivan Rousseau,young writer,Pushkin’s personal dislike for this person,0,0\n",
    "1826,Nikolay Turgenev,one of the leaders of the Union of Welfare and a member of the Northern Society,0,0\n",
    "1827,Vladimir Solomirskiy,artillery officer,the officer’s female friend Sofia to whom Pushkin was personally attracted,0,0\n",
    "1828,Alexander Golitsyn,Minister of Education,Pushkin wrote a bold epigram so the Minister arranged a rough interrogation,0,0\n",
    "1828,Lagrenée,French Embassy Secretary in St.Petersburg,an unknown girl at a ball,0,0\n",
    "1829,Mr. Hvostov,Foreign Office worker,Hvostov was dissatisfied by Pushkin’s epigrams,0,0\n",
    "1836,Nikolay Repin,,Repin was dissatisfied with Pushkin’s poems about him,0,0\n",
    "1836,Semyon Hlustin,Foreign Office worker,Hlustin did not approve of Pushkin’s poetry,0,0\n",
    "1836,Vladimir Sollogub,minor Russian writer,Sologub’s unflattering remarks about the poet’s wife Natalia.0,0\n",
    "1836,George d’Anthès,French officer,an anonymous letter which stated that Pushkin’s wife had been cheating on her husband with d’Anthès,0,0\n",
    "1837,George d’Anthès,French officer,an anonymous letter which stated that Pushkin’s wife had been cheating on her husband with d’Anthès,1,1\n",
    "```"
   ]
  },
  {
   "cell_type": "markdown",
   "metadata": {},
   "source": [
    "Here is also direct link to download <a href=\"https://raw.githubusercontent.com/boorstat/boorstat-files/master/lit/pushkin/duels.csv\">Pushkin's duels csv</a>.<br/>\n",
    "\n",
    "Source for this data:<br/>\n",
    "https://rinatim.com/2016/12/03/alexander-pushkins-duels/<br/>\n",
    "http://d-push.net<br/>\n",
    "https://ru.wikipedia.org/wiki/Пушкин,_Александр_Сергеевич<br/>\n",
    "\n",
    "And now let's try to use it and plot some visual representation of Pushkin's duels into real shots conversion.<br/>\n",
    "Starting with imports:"
   ]
  },
  {
   "cell_type": "code",
   "execution_count": 12,
   "metadata": {
    "collapsed": false
   },
   "outputs": [],
   "source": [
    "from io import StringIO\n",
    "\n",
    "import requests\n",
    "import pandas as pd\n",
    "import plotly.plotly as py\n",
    "import plotly.graph_objs as go\n",
    "\n",
    "DUELS_CSV_URL = 'https://raw.githubusercontent.com/boorstat/boorstat-files/master/lit/pushkin/duels.csv'"
   ]
  },
  {
   "cell_type": "markdown",
   "metadata": {},
   "source": [
    "Getting csv as pandas dataframe:"
   ]
  },
  {
   "cell_type": "code",
   "execution_count": 17,
   "metadata": {
    "collapsed": false
   },
   "outputs": [
    {
     "data": {
      "text/html": [
       "<div>\n",
       "<table border=\"1\" class=\"dataframe\">\n",
       "  <thead>\n",
       "    <tr style=\"text-align: right;\">\n",
       "      <th></th>\n",
       "      <th>year</th>\n",
       "      <th>opponent_name</th>\n",
       "      <th>opponent_descr</th>\n",
       "      <th>cause</th>\n",
       "      <th>pushkin_shot</th>\n",
       "      <th>opponent_shot</th>\n",
       "    </tr>\n",
       "  </thead>\n",
       "  <tbody>\n",
       "    <tr>\n",
       "      <th>0</th>\n",
       "      <td>1816</td>\n",
       "      <td>Paul Hannibal</td>\n",
       "      <td>uncle</td>\n",
       "      <td>during a ball Paul lugged away Pushkin’s girlf...</td>\n",
       "      <td>0</td>\n",
       "      <td>0.0</td>\n",
       "    </tr>\n",
       "    <tr>\n",
       "      <th>1</th>\n",
       "      <td>1817</td>\n",
       "      <td>Pyotr Kaverin</td>\n",
       "      <td>friend</td>\n",
       "      <td>Kaverin’s facetious poem</td>\n",
       "      <td>0</td>\n",
       "      <td>0.0</td>\n",
       "    </tr>\n",
       "    <tr>\n",
       "      <th>2</th>\n",
       "      <td>1819</td>\n",
       "      <td>Kondratiy Ryleev</td>\n",
       "      <td>poet</td>\n",
       "      <td>Ryleev told a joke about Pushkin at a high soc...</td>\n",
       "      <td>0</td>\n",
       "      <td>0.0</td>\n",
       "    </tr>\n",
       "    <tr>\n",
       "      <th>3</th>\n",
       "      <td>1819</td>\n",
       "      <td>Wilhelm Kiichelbecker</td>\n",
       "      <td>frien</td>\n",
       "      <td>funny verses about Küchelbecker</td>\n",
       "      <td>0</td>\n",
       "      <td>1.0</td>\n",
       "    </tr>\n",
       "    <tr>\n",
       "      <th>4</th>\n",
       "      <td>1819</td>\n",
       "      <td>Modest Korf</td>\n",
       "      <td>Ministry of justice worker</td>\n",
       "      <td>Pushkin’s drunk manservant pestered Korf’s ser...</td>\n",
       "      <td>0</td>\n",
       "      <td>0.0</td>\n",
       "    </tr>\n",
       "  </tbody>\n",
       "</table>\n",
       "</div>"
      ],
      "text/plain": [
       "   year          opponent_name              opponent_descr  \\\n",
       "0  1816          Paul Hannibal                       uncle   \n",
       "1  1817          Pyotr Kaverin                      friend   \n",
       "2  1819       Kondratiy Ryleev                        poet   \n",
       "3  1819  Wilhelm Kiichelbecker                       frien   \n",
       "4  1819            Modest Korf  Ministry of justice worker   \n",
       "\n",
       "                                               cause  pushkin_shot  \\\n",
       "0  during a ball Paul lugged away Pushkin’s girlf...             0   \n",
       "1                           Kaverin’s facetious poem             0   \n",
       "2  Ryleev told a joke about Pushkin at a high soc...             0   \n",
       "3                    funny verses about Küchelbecker             0   \n",
       "4  Pushkin’s drunk manservant pestered Korf’s ser...             0   \n",
       "\n",
       "   opponent_shot  \n",
       "0            0.0  \n",
       "1            0.0  \n",
       "2            0.0  \n",
       "3            1.0  \n",
       "4            0.0  "
      ]
     },
     "execution_count": 17,
     "metadata": {},
     "output_type": "execute_result"
    }
   ],
   "source": [
    "df = pd.DataFrame.from_csv(StringIO(requests.get(DUELS_CSV_URL).text), index_col=None)\n",
    "df.head()"
   ]
  },
  {
   "cell_type": "code",
   "execution_count": null,
   "metadata": {
    "collapsed": true
   },
   "outputs": [],
   "source": []
  },
  {
   "cell_type": "markdown",
   "metadata": {},
   "source": [
    "This is the most top level of our visualization script:"
   ]
  },
  {
   "cell_type": "code",
   "execution_count": 14,
   "metadata": {
    "collapsed": false
   },
   "outputs": [],
   "source": [
    "# roman = idiot.from_json()\n",
    "\n",
    "# data = parse_parts(roman)\n",
    "# traces = prepare_data(data)\n",
    "# plot(traces)"
   ]
  },
  {
   "cell_type": "markdown",
   "metadata": {},
   "source": [
    "Final plot function:"
   ]
  },
  {
   "cell_type": "code",
   "execution_count": 15,
   "metadata": {
    "collapsed": true
   },
   "outputs": [],
   "source": [
    "def plot(traces):\n",
    "    layout = go.Layout(title='Idiot Characters')\n",
    "    fig = go.Figure(data=traces, layout=layout)\n",
    "\n",
    "    return py.iplot(\n",
    "        fig,\n",
    "        filename='idiot-characters',\n",
    "        sharing='public')"
   ]
  },
  {
   "cell_type": "markdown",
   "metadata": {},
   "source": [
    "Couple of functions where idiot parts and chapters parsed and charactes rates are set:"
   ]
  },
  {
   "cell_type": "code",
   "execution_count": 16,
   "metadata": {
    "collapsed": true
   },
   "outputs": [],
   "source": [
    "def rate_characters(chapter):\n",
    "    characters = {}\n",
    "\n",
    "    for char, regexps in CHARACTERS.items():\n",
    "        characters[char] = sum([len(re.findall(regex, chapter['text'], re.U)) for regex in regexps])\n",
    "\n",
    "    return characters\n",
    "\n",
    "\n",
    "def parse_parts(roman):\n",
    "    data = []\n",
    "\n",
    "    for part in roman['parts']:\n",
    "        for chapter in part['chapters']:\n",
    "            data.append({\n",
    "                'chapter': '{} - {}'.format(part['title'], chapter['title']),\n",
    "                'rates': rate_characters(chapter)})\n",
    "\n",
    "    return data"
   ]
  },
  {
   "cell_type": "markdown",
   "metadata": {},
   "source": [
    "And huge code to convert native python data to plotly objects ready for plotting:"
   ]
  },
  {
   "cell_type": "code",
   "execution_count": 30,
   "metadata": {
    "collapsed": true
   },
   "outputs": [],
   "source": [
    "def prepare_data(data):\n",
    "    data = data\n",
    "\n",
    "    traces = []\n",
    "\n",
    "    for character in reversed(sorted(data[0]['rates'])):\n",
    "        traces.append(go.Scatter(\n",
    "            x=[],\n",
    "            y=[],\n",
    "            text=[],\n",
    "            fill='tonexty',\n",
    "            mode='none',\n",
    "            line={'shape': 'spline'},\n",
    "            hoverinfo='text',\n",
    "            name=character))\n",
    "\n",
    "    sums = {}\n",
    "    for trace in traces:\n",
    "        for chapter in data:\n",
    "            sums[chapter['chapter']] = sums.get(chapter['chapter'], 0) + chapter['rates'][trace['name']]\n",
    "            trace['x'].append(chapter['chapter'])\n",
    "            trace['y'].append(sums[chapter['chapter']])\n",
    "            trace['text'].append(\n",
    "                '{} - {}'.format(chapter['rates'][trace['name']], trace['name'])\n",
    "                if chapter['rates'][trace['name']] else '')\n",
    "\n",
    "    traces_with_liners = []\n",
    "    for trace in traces:\n",
    "        traces_with_liners.append(trace)\n",
    "        traces_with_liners.append(go.Scatter(\n",
    "            x=trace['x'],\n",
    "            y=trace['y'],\n",
    "            fill='tonexty',\n",
    "            showlegend=False,\n",
    "            line={'shape': 'spline'},\n",
    "            hoverinfo='none',\n",
    "            mode='none',\n",
    "            fillcolor='#ffffff'\n",
    "        ))\n",
    "\n",
    "    return traces_with_liners\n"
   ]
  },
  {
   "cell_type": "markdown",
   "metadata": {},
   "source": [
    "And returning to code from which we started — let's see the plot result:"
   ]
  },
  {
   "cell_type": "code",
   "execution_count": 31,
   "metadata": {
    "collapsed": false
   },
   "outputs": [
    {
     "data": {
      "text/html": [
       "<iframe id=\"igraph\" scrolling=\"no\" style=\"border:none;\" seamless=\"seamless\" src=\"https://plot.ly/~boorstat/10.embed\" height=\"525px\" width=\"100%\"></iframe>"
      ],
      "text/plain": [
       "<plotly.tools.PlotlyDisplay object>"
      ]
     },
     "execution_count": 31,
     "metadata": {},
     "output_type": "execute_result"
    }
   ],
   "source": [
    "roman = idiot.from_json()\n",
    "\n",
    "data = parse_parts(roman)\n",
    "traces = prepare_data(data)\n",
    "plot(traces)"
   ]
  }
 ],
 "metadata": {
  "kernelspec": {
   "display_name": "Python 3",
   "language": "python",
   "name": "python3"
  },
  "language_info": {
   "codemirror_mode": {
    "name": "ipython",
    "version": 3
   },
   "file_extension": ".py",
   "mimetype": "text/x-python",
   "name": "python",
   "nbconvert_exporter": "python",
   "pygments_lexer": "ipython3",
   "version": "3.4.3"
  }
 },
 "nbformat": 4,
 "nbformat_minor": 2
}
