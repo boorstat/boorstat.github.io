{
 "cells": [
  {
   "cell_type": "markdown",
   "metadata": {},
   "source": [
    "### boor-system"
   ]
  },
  {
   "cell_type": "code",
   "execution_count": 3,
   "metadata": {
    "collapsed": false
   },
   "outputs": [],
   "source": [
    "import re\n",
    "import sys\n",
    "sys.path.append('/Users/baza/dev/python-boorstat/')\n",
    "\n",
    "#from plotly.offline import download_plotlyjs, init_notebook_mode, plot, iplot\n",
    "import plotly.plotly as py\n",
    "import plotly.graph_objs as go\n",
    "\n",
    "import boorstat"
   ]
  },
  {
   "cell_type": "markdown",
   "metadata": {},
   "source": [
    "### boor-title"
   ]
  },
  {
   "cell_type": "markdown",
   "metadata": {},
   "source": [
    "Visualised Dostoyevsky Idiot characters activity rate"
   ]
  },
  {
   "cell_type": "markdown",
   "metadata": {},
   "source": [
    "### boor-short-content"
   ]
  },
  {
   "cell_type": "markdown",
   "metadata": {},
   "source": [
    "Here is an example of usage The Idiot json to visualise characters activity rate along the chapters."
   ]
  },
  {
   "cell_type": "markdown",
   "metadata": {},
   "source": [
    "### boor-full-content"
   ]
  },
  {
   "cell_type": "markdown",
   "metadata": {},
   "source": [
    "In <a href=\"/dostoyevsky/idiot/2017/01/08/dostoyevsky-idiot-python-object.html\">previous post</a> we've generated <a href=\"https://github.com/boorstat/boorstat-files/raw/master/lit/dostoevsky/idiot.json\">json</a> based on <a href=\"https://github.com/boorstat/boorstat-files/raw/master/lit/dostoevsky/The_Idiot.txt\">Idiot text</a>.\n",
    "\n",
    "In this post we're going to use this data and visualise characters per chapter activity rate.<br/>\n",
    "First of all we need dict of lists how characters can be called or named in text:"
   ]
  },
  {
   "cell_type": "code",
   "execution_count": 4,
   "metadata": {
    "collapsed": true
   },
   "outputs": [],
   "source": [
    "CHARACTERS = {\n",
    "    'Prince Myshkin': ['Lev Nikolayevich', 'Lef Nicolayevitch', 'Myshkin', r'prince(?! S\\.)'],\n",
    "    'Nastasya Philipovna': ['Nastasia Philipovna', 'Barashkova'],\n",
    "    'Parfyon Semyonovich Rogozhin': ['Parfyon', 'Rogozhin', 'Rogojin'],\n",
    "    'General Ivan Fyodorovich Yepanchin': ['general', 'Ivan Fyodorovich'],\n",
    "    'Elizaveta Prokofyevna': ['Elizabetha', 'Prokofievna', r'Mrs\\. Epanchin'],\n",
    "    'Alexandra Ivanovna': ['Alexandra'],\n",
    "    'Adelaida Ivanovna': ['Adelaida'],\n",
    "    'Aglaya Ivanovna': ['Aglaya'],\n",
    "    'General Ardalion Alexandrovich Ivolgin': ['general', 'Ivolgin', 'Ardalion'],\n",
    "    'Nina Alexandrovna': ['Nina'],\n",
    "    'Gavrila Ardalionovich': ['Gavrila', 'Ganya', 'Ganechka', 'Ganka'],\n",
    "    'Varvara Ardalionovna': ['Varvara'],\n",
    "    'Lukyan Timofeevich Lebedev': ['Lukyan', 'Lebedeff'],\n",
    "    'Vera Lukyanovna': ['Vera'],\n",
    "    'Ippolit Terentyev': ['Ippolit'],\n",
    "    'Ivan Petrovich Ptitsyn': ['Ivan Petrovich', 'Ptitsin'],\n",
    "    'Evgeny Pavlovich Radomsky': ['Pavlovitch', 'Radomski'],\n",
    "    'Prince S.': ['prince S.'],\n",
    "    'Afanasy Ivanovich Totsky': ['Afanasy Ivanovitch', 'Totski'],\n",
    "    'Ferdyshchenko': ['Ferdishenko'],\n",
    "    'Keller': ['Keller'],\n",
    "    'Antip Burdovsky': ['Antip', 'Burdovsky']\n",
    "}"
   ]
  },
  {
   "cell_type": "markdown",
   "metadata": {},
   "source": [
    "<a href=\"https://plot.ly\">Plotly</a> and its python API is used to visualise data at the final stage.<br/>\n",
    "Se we need to do some imports for it:"
   ]
  },
  {
   "cell_type": "code",
   "execution_count": 5,
   "metadata": {
    "collapsed": true
   },
   "outputs": [],
   "source": [
    "import plotly.plotly as py\n",
    "import plotly.graph_objs as go"
   ]
  },
  {
   "cell_type": "markdown",
   "metadata": {},
   "source": [
    "Also we need to import our own python package: python-boorstat.<br/>\n",
    "It can be easily installed using pip.<br/>\n",
    "Read <a href=\"/setup/\">how</a>."
   ]
  },
  {
   "cell_type": "code",
   "execution_count": 6,
   "metadata": {
    "collapsed": true
   },
   "outputs": [],
   "source": [
    "from boorstat.lit.dostoyevsky.idiot import idiot"
   ]
  },
  {
   "cell_type": "markdown",
   "metadata": {},
   "source": [
    "This is the most top level of our visualization script:"
   ]
  },
  {
   "cell_type": "code",
   "execution_count": 7,
   "metadata": {
    "collapsed": false
   },
   "outputs": [],
   "source": [
    "# roman = idiot.from_json()\n",
    "\n",
    "# data = parse_parts(roman)\n",
    "# traces = prepare_data(data)\n",
    "# plot(traces)"
   ]
  },
  {
   "cell_type": "markdown",
   "metadata": {},
   "source": [
    "Final plot function:"
   ]
  },
  {
   "cell_type": "code",
   "execution_count": 12,
   "metadata": {
    "collapsed": true
   },
   "outputs": [],
   "source": [
    "def plot(traces):\n",
    "    layout = go.Layout(\n",
    "        autosize=False,\n",
    "        width=800,\n",
    "        title='Idiot Characters (<a href=\"https://boorstat.github.io/dostoyevsky/idiot/2017/03/05/dostoyevsky-idiot-characters.html\">link to source</a>)')\n",
    "    fig = go.Figure(data=traces, layout=layout)\n",
    "\n",
    "    return py.iplot(\n",
    "        fig,\n",
    "        filename='idiot-characters',\n",
    "        sharing='public')"
   ]
  },
  {
   "cell_type": "markdown",
   "metadata": {},
   "source": [
    "Couple of functions where idiot parts and chapters parsed and charactes rates are set:"
   ]
  },
  {
   "cell_type": "code",
   "execution_count": 9,
   "metadata": {
    "collapsed": true
   },
   "outputs": [],
   "source": [
    "def rate_characters(chapter):\n",
    "    characters = {}\n",
    "\n",
    "    for char, regexps in CHARACTERS.items():\n",
    "        characters[char] = sum([len(re.findall(regex, chapter['text'], re.U)) for regex in regexps])\n",
    "\n",
    "    return characters\n",
    "\n",
    "\n",
    "def parse_parts(roman):\n",
    "    data = []\n",
    "\n",
    "    for part in roman['parts']:\n",
    "        for chapter in part['chapters']:\n",
    "            data.append({\n",
    "                'chapter': '{} - {}'.format(part['title'], chapter['title']),\n",
    "                'rates': rate_characters(chapter)})\n",
    "\n",
    "    return data"
   ]
  },
  {
   "cell_type": "markdown",
   "metadata": {},
   "source": [
    "And huge code to convert native python data to plotly objects ready for plotting:"
   ]
  },
  {
   "cell_type": "code",
   "execution_count": 10,
   "metadata": {
    "collapsed": true
   },
   "outputs": [],
   "source": [
    "def prepare_data(data):\n",
    "    data = data\n",
    "\n",
    "    traces = []\n",
    "\n",
    "    for character in reversed(sorted(data[0]['rates'])):\n",
    "        traces.append(go.Scatter(\n",
    "            x=[],\n",
    "            y=[],\n",
    "            text=[],\n",
    "            fill='tonexty',\n",
    "            mode='none',\n",
    "            line={'shape': 'spline'},\n",
    "            hoverinfo='text',\n",
    "            name=character))\n",
    "\n",
    "    sums = {}\n",
    "    for trace in traces:\n",
    "        for chapter in data:\n",
    "            sums[chapter['chapter']] = sums.get(chapter['chapter'], 0) + chapter['rates'][trace['name']]\n",
    "            trace['x'].append(chapter['chapter'])\n",
    "            trace['y'].append(sums[chapter['chapter']])\n",
    "            trace['text'].append(\n",
    "                '{} - {}'.format(chapter['rates'][trace['name']], trace['name'])\n",
    "                if chapter['rates'][trace['name']] else '')\n",
    "\n",
    "    traces_with_liners = []\n",
    "    for trace in traces:\n",
    "        traces_with_liners.append(trace)\n",
    "        traces_with_liners.append(go.Scatter(\n",
    "            x=trace['x'],\n",
    "            y=trace['y'],\n",
    "            fill='tonexty',\n",
    "            showlegend=False,\n",
    "            line={'shape': 'spline'},\n",
    "            hoverinfo='none',\n",
    "            mode='none',\n",
    "            fillcolor='#ffffff'\n",
    "        ))\n",
    "\n",
    "    return traces_with_liners\n"
   ]
  },
  {
   "cell_type": "markdown",
   "metadata": {},
   "source": [
    "And returning to code from which we started — let's see the plot result:"
   ]
  },
  {
   "cell_type": "code",
   "execution_count": 13,
   "metadata": {
    "collapsed": false
   },
   "outputs": [
    {
     "data": {
      "text/html": [
       "<iframe id=\"igraph\" scrolling=\"no\" style=\"border:none;\" seamless=\"seamless\" src=\"https://plot.ly/~boorstat/10.embed\" height=\"525px\" width=\"800px\"></iframe>"
      ],
      "text/plain": [
       "<plotly.tools.PlotlyDisplay object>"
      ]
     },
     "execution_count": 13,
     "metadata": {},
     "output_type": "execute_result"
    }
   ],
   "source": [
    "roman = idiot.from_json()\n",
    "\n",
    "data = parse_parts(roman)\n",
    "traces = prepare_data(data)\n",
    "plot(traces)"
   ]
  }
 ],
 "metadata": {
  "kernelspec": {
   "display_name": "Python 3",
   "language": "python",
   "name": "python3"
  },
  "language_info": {
   "codemirror_mode": {
    "name": "ipython",
    "version": 3
   },
   "file_extension": ".py",
   "mimetype": "text/x-python",
   "name": "python",
   "nbconvert_exporter": "python",
   "pygments_lexer": "ipython3",
   "version": "3.4.3"
  }
 },
 "nbformat": 4,
 "nbformat_minor": 2
}
